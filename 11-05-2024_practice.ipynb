{
 "cells": [
  {
   "cell_type": "markdown",
   "id": "773a07b6-e612-4f73-a396-ab930fb0064a",
   "metadata": {},
   "source": [
    "<h2 style=\"color:blue; font-size:20px;\">Day-1_Practice</h2>"
   ]
  },
  {
   "cell_type": "markdown",
   "id": "4e743728-3622-45dc-9eec-481ca4fa7391",
   "metadata": {},
   "source": [
    "<h2 style=\"color:Orange; font-size:15px;\">\n",
    "    Printing text<br>\n",
    "    - printing the output using print function\n",
    "</h2>"
   ]
  },
  {
   "cell_type": "code",
   "execution_count": 2,
   "id": "be5ce78d-e12a-472a-aace-ebf0f8113df6",
   "metadata": {},
   "outputs": [
    {
     "name": "stdout",
     "output_type": "stream",
     "text": [
      "python practice\n"
     ]
    }
   ],
   "source": [
    "print(\"python practice\")"
   ]
  },
  {
   "cell_type": "markdown",
   "id": "08cc5b36-7d42-498c-9f3c-3aab4aa9267c",
   "metadata": {},
   "source": [
    "<h2 style=\"color:Orange; font-size:15px;\">\n",
    "    Python comments:<br>\n",
    "These are used to:<br>\n",
    "- explain complex logic<br>\n",
    "- explain purpose of function or logic<br>\n",
    "- temporarily disable code for debugging<br>\n",
    "- document for others\n",
    "</h2>\n"
   ]
  },
  {
   "cell_type": "code",
   "execution_count": 21,
   "id": "6b49f1d6-90d9-4f40-9210-e973cba748c6",
   "metadata": {},
   "outputs": [
    {
     "name": "stdout",
     "output_type": "stream",
     "text": [
      "single line comments(using #)\n"
     ]
    }
   ],
   "source": [
    "#single line comments using #\n",
    "print(\"single line comments(using #)\")"
   ]
  },
  {
   "cell_type": "code",
   "execution_count": 19,
   "id": "0e8f2027-6987-4450-80b8-87b597686bc5",
   "metadata": {},
   "outputs": [
    {
     "name": "stdout",
     "output_type": "stream",
     "text": [
      "multiple line comments using single or double quotes\n"
     ]
    }
   ],
   "source": [
    "'''multiline comments\n",
    "'''\n",
    "print('multiple line comments using single or double quotes')"
   ]
  },
  {
   "cell_type": "markdown",
   "id": "0ae5f918-7ae4-436c-981d-de8a4366e31a",
   "metadata": {},
   "source": [
    "<h2 style=\"color:Orange; font-size:15px;\">\n",
    "    Defining variables in python<br>\n",
    "    Variable is the named reference given to the value stored in memory<br>\n",
    "Rules for Defining Variables in Python:<br>\n",
    "-Variable names must start with a letter (A–Z, a–z) or an underscore _ <br>\n",
    "-Variable names can include letters, digits (0–9), and underscores _ only<br>\n",
    "-Variable names cannot start with a digit<br>\n",
    "-Variable names are case-sensitive (name, Name, and NAME are all different)<br>\n",
    "-Python keywords (like if, for, class, etc.) cannot be used as variable names<br>\n",
    "<br>\n",
    "Best Practices for Naming Variables<br>\n",
    "-Use descriptive, meaningful names (e.g., student_score instead of ss)<br>\n",
    "-Use snake_case for multiple words (e.g., total_amount, is_logged_in)<br>\n",
    "-Avoid using a single character unless it's in a loop (e.g., for i in range(5))<br>\n",
    "-Avoid starting with an underscore unless indicating a private/internal variable<br>\n",
    "-Keep names short but clear — avoid overly long or overly abbreviated names</h2>"
   ]
  },
  {
   "cell_type": "code",
   "execution_count": 28,
   "id": "2b3a6530-e3d8-4f61-866d-948999436e69",
   "metadata": {},
   "outputs": [
    {
     "name": "stdout",
     "output_type": "stream",
     "text": [
      "Aparna\n",
      "Aparna16\n"
     ]
    },
    {
     "data": {
      "text/plain": [
       "'_Aparna16'"
      ]
     },
     "execution_count": 28,
     "metadata": {},
     "output_type": "execute_result"
    }
   ],
   "source": [
    "#defining variable\n",
    "name=\"Aparna\"\n",
    "print(name)\n",
    "name1=\"Aparna16\"\n",
    "print(name1)\n",
    "name3=\"_Aparna16\"\n",
    "name3"
   ]
  },
  {
   "cell_type": "code",
   "execution_count": 29,
   "id": "352aabb6-c59d-4c0c-b1b3-1d0ba15c8008",
   "metadata": {},
   "outputs": [
    {
     "ename": "SyntaxError",
     "evalue": "invalid syntax (2336269924.py, line 4)",
     "output_type": "error",
     "traceback": [
      "\u001b[1;36m  Cell \u001b[1;32mIn[29], line 4\u001b[1;36m\u001b[0m\n\u001b[1;33m    class=\"Aparna16\"\u001b[0m\n\u001b[1;37m         ^\u001b[0m\n\u001b[1;31mSyntaxError\u001b[0m\u001b[1;31m:\u001b[0m invalid syntax\n"
     ]
    }
   ],
   "source": [
    "#below will give error\n",
    "name=\"1Aparna\"\n",
    "print(name)\n",
    "class=\"Aparna16\"\n",
    "print(class)\n",
    "name3=\"Aparna-16\"\n",
    "name3"
   ]
  },
  {
   "cell_type": "code",
   "execution_count": 30,
   "id": "01a49389-9c74-429f-90fe-4ee76c612e44",
   "metadata": {},
   "outputs": [
    {
     "name": "stdout",
     "output_type": "stream",
     "text": [
      "3\n",
      "12\n",
      "13\n"
     ]
    }
   ],
   "source": [
    "# assiging multiple values to multiple variables \n",
    "a,b,c=3,12,13\n",
    "print(a)\n",
    "print(b)\n",
    "print(c)"
   ]
  },
  {
   "cell_type": "code",
   "execution_count": 33,
   "id": "88eef226-7fd0-4824-a010-f708f668b056",
   "metadata": {},
   "outputs": [
    {
     "name": "stdout",
     "output_type": "stream",
     "text": [
      "12\n",
      "12\n",
      "12\n"
     ]
    }
   ],
   "source": [
    "#assigning same value to mulitple variables \n",
    "a=b=c=12\n",
    "print(a)\n",
    "print(b)\n",
    "print(c)"
   ]
  },
  {
   "cell_type": "markdown",
   "id": "bcdf6c3f-a2cb-4892-bf15-9c6a9a03e216",
   "metadata": {},
   "source": [
    "<h2 style=\"color:Orange; font-size:15px;\">\n",
    "    Literals<br>\n",
    "-it is a fixed value that is written in the code<br>\n",
    "-represents the actual data assigned to a variable or used in an expression\n",
    "</h2>"
   ]
  },
  {
   "cell_type": "code",
   "execution_count": 34,
   "id": "e0b97fb2-0951-4fd7-90e4-a2be429a0552",
   "metadata": {},
   "outputs": [
    {
     "data": {
      "text/plain": [
       "'name'"
      ]
     },
     "execution_count": 34,
     "metadata": {},
     "output_type": "execute_result"
    }
   ],
   "source": [
    "#string literals\n",
    "a='name'\n",
    "a"
   ]
  },
  {
   "cell_type": "code",
   "execution_count": 35,
   "id": "b247fd2f-a350-4a15-b0b3-8e3e3d5d8fda",
   "metadata": {},
   "outputs": [
    {
     "data": {
      "text/plain": [
       "12"
      ]
     },
     "execution_count": 35,
     "metadata": {},
     "output_type": "execute_result"
    }
   ],
   "source": [
    "#numeric literals\n",
    "x=12\n",
    "x"
   ]
  },
  {
   "cell_type": "code",
   "execution_count": 36,
   "id": "bd9058d9-9244-45b2-b0bd-f1e8d3f26649",
   "metadata": {},
   "outputs": [
    {
     "data": {
      "text/plain": [
       "1.2"
      ]
     },
     "execution_count": 36,
     "metadata": {},
     "output_type": "execute_result"
    }
   ],
   "source": [
    "#float literal\n",
    "x=1.2\n",
    "x"
   ]
  },
  {
   "cell_type": "code",
   "execution_count": 37,
   "id": "de1d3384-d026-4e22-b217-9ddaa78779b3",
   "metadata": {},
   "outputs": [
    {
     "data": {
      "text/plain": [
       "(1+4j)"
      ]
     },
     "execution_count": 37,
     "metadata": {},
     "output_type": "execute_result"
    }
   ],
   "source": [
    "#complex literal\n",
    "y=1+4j\n",
    "y"
   ]
  },
  {
   "cell_type": "code",
   "execution_count": 38,
   "id": "a4050f1a-1b61-43a7-a22f-ddca5b39ff5a",
   "metadata": {},
   "outputs": [
    {
     "name": "stdout",
     "output_type": "stream",
     "text": [
      "True\n",
      "False\n"
     ]
    }
   ],
   "source": [
    "#Boolean literal\n",
    "a=True\n",
    "print(a)\n",
    "b=False\n",
    "print(b)"
   ]
  },
  {
   "cell_type": "code",
   "execution_count": 41,
   "id": "4f74ec5b-bc54-44fa-8bbb-3401501e868c",
   "metadata": {},
   "outputs": [
    {
     "name": "stdout",
     "output_type": "stream",
     "text": [
      "None\n"
     ]
    }
   ],
   "source": [
    "#None literal\n",
    "z=None\n",
    "print(z)"
   ]
  },
  {
   "cell_type": "code",
   "execution_count": 48,
   "id": "409fc431-ab5e-40d2-8dff-f169f8a1d509",
   "metadata": {},
   "outputs": [
    {
     "name": "stdout",
     "output_type": "stream",
     "text": [
      "List:[1, 2, 3, 4]\n",
      "tuple:(1, 2, 3, 4)\n",
      "dictionary:{'id': 12, 'name': 'aparna'}\n",
      "set:{1, 2, 3}\n"
     ]
    }
   ],
   "source": [
    "#collection literals\n",
    "#list\n",
    "l=[1,2,3,4]\n",
    "print(f\"List:{l}\")\n",
    "#tuple\n",
    "t=(1,2,3,4)\n",
    "print(f\"tuple:{t}\")\n",
    "#dictionary\n",
    "d={'id':12,'name':'aparna'}\n",
    "print(f\"dictionary:{d}\")\n",
    "#set\n",
    "s={1,2,3}\n",
    "print(f\"set:{s}\")"
   ]
  },
  {
   "cell_type": "code",
   "execution_count": 49,
   "id": "14d89650-1d3c-423a-8461-2b6339d46706",
   "metadata": {},
   "outputs": [
    {
     "name": "stdout",
     "output_type": "stream",
     "text": [
      "red\n",
      "green\n",
      "blue\n"
     ]
    }
   ],
   "source": [
    "#unpacking a collection\n",
    "colors=['red','green','blue']\n",
    "x,y,z=colors\n",
    "print(x)\n",
    "print(y)\n",
    "print(z)"
   ]
  },
  {
   "cell_type": "code",
   "execution_count": null,
   "id": "f0328e9e-28de-4827-b32f-65628d3b42fb",
   "metadata": {},
   "outputs": [],
   "source": [
    "<h2 style=\"color:Orange; font-size:15px;\">\n",
    "    Printing text<br>\n",
    "    - printing the output using print function\n",
    "</h2>"
   ]
  },
  {
   "cell_type": "markdown",
   "id": "3cef4eec-20a4-4f1b-babb-429a692f2dcd",
   "metadata": {},
   "source": [
    "<h2 style=\"color:Orange; font-size:15px;\">\n",
    "    Global variables<br>\n",
    "    - accessible anywhere in the function<br>\n",
    "    Local variables<br>\n",
    "    - accessible only in the defined function\n",
    "</h2>"
   ]
  },
  {
   "cell_type": "code",
   "execution_count": 55,
   "id": "1a4c9ab9-cea3-4e4f-90df-92fb4e8431b2",
   "metadata": {},
   "outputs": [
    {
     "name": "stdout",
     "output_type": "stream",
     "text": [
      "Global variable: 10\n",
      "outside function: 10\n"
     ]
    }
   ],
   "source": [
    "#defining the global variable x\n",
    "x=10\n",
    "\n",
    "def show():\n",
    "    print(\"Global variable:\",x)\n",
    "show()\n",
    "\n",
    "print(\"outside function:\",x)"
   ]
  },
  {
   "cell_type": "code",
   "execution_count": 59,
   "id": "01fe4325-803a-47ec-a4d8-cc7d6c6bed9f",
   "metadata": {},
   "outputs": [
    {
     "name": "stdout",
     "output_type": "stream",
     "text": [
      "inside function: Hello\n"
     ]
    }
   ],
   "source": [
    "#defining the local variable x\n",
    "def greet():\n",
    "    x=\"Hello\"\n",
    "    print(\"inside function:\",x)\n",
    "\n",
    "greet()\n",
    "#print(\"outside function:\",x)- this will give an error"
   ]
  },
  {
   "cell_type": "markdown",
   "id": "b441e6c2-767b-4802-9e27-9ac0ac8be639",
   "metadata": {},
   "source": [
    "<h2 style=\"color:Orange; font-size:15px;\">\n",
    "    Data types<br>\n",
    "    - it defines the kind of value a variable holds<br>\n",
    "    - it also defines what kind of operation can be done on a variable<br>\n",
    "</h2>"
   ]
  },
  {
   "cell_type": "code",
   "execution_count": 62,
   "id": "c3b33e75-04e3-463a-9a51-16f17ea1ede5",
   "metadata": {},
   "outputs": [
    {
     "name": "stdout",
     "output_type": "stream",
     "text": [
      "Integer data type: 11\n",
      "Integer data type: -10\n",
      "float data type: 10.5\n",
      "10.5\n",
      "float data type: (4+2j)\n"
     ]
    }
   ],
   "source": [
    "#numerical data type\n",
    "#1. integer\n",
    "x=11\n",
    "print(f\"Integer data type:\",x)\n",
    "x=-10\n",
    "print(f\"Integer data type:\",x)\n",
    "#2. float\n",
    "x=10.5\n",
    "print(f\"float data type:\",x)\n",
    "print(x)\n",
    "#complex\n",
    "x=4+2j\n",
    "print(f\"float data type:\",x)"
   ]
  },
  {
   "cell_type": "code",
   "execution_count": 63,
   "id": "490182c2-59b4-428e-85a0-3049bf80247b",
   "metadata": {},
   "outputs": [
    {
     "name": "stdout",
     "output_type": "stream",
     "text": [
      "string data type: Aparna\n"
     ]
    }
   ],
   "source": [
    "#string data type-character\n",
    "name=\"Aparna\"\n",
    "print(f\"string data type:\",name)"
   ]
  },
  {
   "cell_type": "code",
   "execution_count": 64,
   "id": "17c8a837-f232-4806-bdad-3d5e0a99212d",
   "metadata": {},
   "outputs": [
    {
     "name": "stdout",
     "output_type": "stream",
     "text": [
      "Boolean data type: True\n",
      "Boolean data type: False\n"
     ]
    }
   ],
   "source": [
    "#Boolean data type-True or False\n",
    "x=True\n",
    "print(f\"Boolean data type:\",x)\n",
    "x=False\n",
    "print(f\"Boolean data type:\",x)"
   ]
  },
  {
   "cell_type": "code",
   "execution_count": 66,
   "id": "84246f1e-9f3e-480c-9ebc-f43f5aa2b400",
   "metadata": {},
   "outputs": [
    {
     "name": "stdout",
     "output_type": "stream",
     "text": [
      "List data type: [1, 2, 3]\n",
      "tuple data type: (1, 2, 3)\n",
      "range data type: range(0, 5)\n"
     ]
    }
   ],
   "source": [
    "#Sequence data types\n",
    "#list-mutable and ordered sequence of elements\n",
    "l=[1,2,3]\n",
    "print(f\"List data type:\",l)\n",
    "#tuple-immutable and ordered sequence of elements\n",
    "t=(1,2,3)\n",
    "print(f\"tuple data type:\",t)\n",
    "#range- sequence of elements\n",
    "r=range(5)\n",
    "print(f\"range data type:\",r)"
   ]
  },
  {
   "cell_type": "code",
   "execution_count": 71,
   "id": "dbb4991b-8e09-498b-85b4-b83a2bc9d95f",
   "metadata": {},
   "outputs": [
    {
     "name": "stdout",
     "output_type": "stream",
     "text": [
      "set data type: {'apple', 'watermelon', 'banana'}\n",
      "frozenset data type: frozenset({1, 2, 3})\n"
     ]
    }
   ],
   "source": [
    "#set data type\n",
    "#set- mutable,unordered and unique\n",
    "s={'apple','banana','watermelon','banana','apple'}\n",
    "print(f\"set data type:\",s)\n",
    "#frozen set-immutable set\n",
    "f=frozenset([1,2,3])\n",
    "print(f\"frozenset data type:\",f)"
   ]
  },
  {
   "cell_type": "code",
   "execution_count": 73,
   "id": "648c3a69-8879-41ac-b3f9-b9888e004ee5",
   "metadata": {},
   "outputs": [
    {
     "name": "stdout",
     "output_type": "stream",
     "text": [
      "dictionary data type: {'name': 'aparna', 'age': 27}\n"
     ]
    }
   ],
   "source": [
    "#mapping data type\n",
    "#dictionary-key-value pairs\n",
    "x={'name':'aparna','age':27}\n",
    "print(f\"dictionary data type:\",x)"
   ]
  },
  {
   "cell_type": "code",
   "execution_count": 74,
   "id": "c1bc70b9-a36c-4315-946b-f84918b12e3b",
   "metadata": {},
   "outputs": [],
   "source": [
    "#Binary data types\n",
    "#bytes,bytearray,memoryview-these are used for binary data processing"
   ]
  },
  {
   "cell_type": "code",
   "execution_count": 75,
   "id": "1646407f-fc21-43ea-a1e2-25b57f981e25",
   "metadata": {},
   "outputs": [
    {
     "name": "stdout",
     "output_type": "stream",
     "text": [
      "None data type: None\n"
     ]
    }
   ],
   "source": [
    "#None data type\n",
    "#represents the absence of a value\n",
    "x=None\n",
    "print(f\"None data type:\",x)"
   ]
  },
  {
   "cell_type": "code",
   "execution_count": 76,
   "id": "fc9818c2-6fbc-4067-8eaa-80ed0f948306",
   "metadata": {},
   "outputs": [
    {
     "name": "stdout",
     "output_type": "stream",
     "text": [
      "<class 'int'>\n",
      "<class 'str'>\n",
      "<class 'list'>\n"
     ]
    }
   ],
   "source": [
    "#to know the data type of a variable\n",
    "#type()- this function is used to know the data type of the given variable\n",
    "x=2\n",
    "print(type(x))\n",
    "x='name'\n",
    "print(type(x))\n",
    "x=[1,2,3]\n",
    "print(type(x))"
   ]
  },
  {
   "cell_type": "code",
   "execution_count": 80,
   "id": "19341e0a-8957-4905-a741-fe9ed8bb1048",
   "metadata": {},
   "outputs": [
    {
     "name": "stdout",
     "output_type": "stream",
     "text": [
      "12\n",
      "<class 'str'>\n"
     ]
    }
   ],
   "source": [
    "#casting\n",
    "#changing the variable of data type to another data type\n",
    "x=12\n",
    "y=str(x)\n",
    "print(str(y))#here x is string\n",
    "print(type(y))"
   ]
  },
  {
   "cell_type": "markdown",
   "id": "5cc0bbe1-fc79-4aa8-90b4-b45f0fae1406",
   "metadata": {},
   "source": [
    "<h2 style=\"color:Orange; font-size:15px;\">\n",
    "    Rules for casting in python<br>\n",
    "    - only compatible types can be cast<br>\n",
    "    eg: str->int (only if it contains numerics)<br>\n",
    "        float->int<br>\n",
    "        int->str<br>\n",
    "    -string->Lists or tuples<br>\n",
    "    - Lists->tuples and vice versa<br>\n",
    "</h2>"
   ]
  },
  {
   "cell_type": "markdown",
   "id": "e27c118f-5446-46d3-808f-1b8b44e602b9",
   "metadata": {},
   "source": [
    "<h2 style=\"color:Orange; font-size:15px;\">\n",
    "    String operations\n",
    "</h2>"
   ]
  },
  {
   "cell_type": "code",
   "execution_count": 91,
   "id": "7b73e6d5-89fb-48f1-86f1-b25217e5d000",
   "metadata": {},
   "outputs": [],
   "source": [
    "#defining the function for separation\n",
    "def sep():\n",
    "    print(\"--------\"*5)"
   ]
  },
  {
   "cell_type": "code",
   "execution_count": 94,
   "id": "9d8c9d86-0809-4039-9c43-493ebfbca984",
   "metadata": {},
   "outputs": [
    {
     "name": "stdout",
     "output_type": "stream",
     "text": [
      "length of string: {6}\n",
      "----------------------------------------\n",
      "a\n",
      "p\n",
      "a\n",
      "r\n",
      "n\n",
      "a\n",
      "----------------------------------------\n",
      "True\n"
     ]
    }
   ],
   "source": [
    "#len() is used to know the length of string\n",
    "x='aparna'\n",
    "print(\"length of string:\",{len(x)})\n",
    "#iterating through each element in string\n",
    "sep()\n",
    "for i in x:\n",
    "    print(i)\n",
    "sep()\n",
    "#in operator- to check the availability\n",
    "print(\"n\" in x)"
   ]
  },
  {
   "cell_type": "markdown",
   "id": "5a33fa80-67bf-4987-8125-b9d63d5b7296",
   "metadata": {},
   "source": [
    "<h2 style=\"color:Orange; font-size:15px;\">\n",
    "    indexing<br>\n",
    "    - it is the process of accessing individual elements in a sequence of elements like strings,tuples and lists<br>\n",
    "Rules of indexing:<br>\n",
    "    -indexing starts from 0. first element has index 0<br>\n",
    "    -negative indexing starts from -1.(-1 is the last element)<br>\n",
    "    -indexing is done using square brackets\n",
    "</h2>"
   ]
  },
  {
   "cell_type": "code",
   "execution_count": 98,
   "id": "509b3556-f3d3-4fef-9dd0-6e265bcdf265",
   "metadata": {},
   "outputs": [
    {
     "name": "stdout",
     "output_type": "stream",
     "text": [
      "apa\n",
      "anrapa\n",
      "arna\n"
     ]
    }
   ],
   "source": [
    "#indexing on strings\n",
    "a='aparna'\n",
    "print(a[:3])\n",
    "print(a[::-1])#reverse of a string\n",
    "print(a[2:])"
   ]
  },
  {
   "cell_type": "code",
   "execution_count": 105,
   "id": "8c3f33fb-1f14-4e9b-b545-1a58a6a0456a",
   "metadata": {},
   "outputs": [
    {
     "name": "stdout",
     "output_type": "stream",
     "text": [
      "APARNA\n",
      "aparna\n",
      "Aparna\n",
      "npnrnn\n",
      "['11', '05', '2025']\n"
     ]
    }
   ],
   "source": [
    "#some more string operations\n",
    "a='aparna'\n",
    "print(a.upper())#converting to upper case\n",
    "a=\"AParna\"\n",
    "print(a.lower())#converting to lower case\n",
    "a=\" Aparna \"\n",
    "print(a.strip())#removing the extra spaces at start and end of a string\n",
    "a='aparna'\n",
    "print(a.replace('a','n')) # replacing a with n\n",
    "a='11-05-2025' #splitting the string at '-'\n",
    "print(a.split('-'))"
   ]
  },
  {
   "cell_type": "code",
   "execution_count": 107,
   "id": "d3155fba-9ae7-4a4b-8bf3-f390f25303aa",
   "metadata": {},
   "outputs": [
    {
     "name": "stdout",
     "output_type": "stream",
     "text": [
      "aparnanaram\n",
      "aparna___naram\n",
      "my age is 27.67\n"
     ]
    }
   ],
   "source": [
    "#more string operations\n",
    "a='aparna'\n",
    "b = \"naram\"\n",
    "print(a+b) # adding two strings \n",
    "print(a+\"___\"+b)\n",
    "c =27.6678\n",
    "print(f'my age is {c:.2f}') # until to decimals "
   ]
  },
  {
   "cell_type": "code",
   "execution_count": 110,
   "id": "c4eb57e1-110f-4a5b-aee1-847ceaf4314d",
   "metadata": {},
   "outputs": [
    {
     "name": "stdout",
     "output_type": "stream",
     "text": [
      "False\n",
      "False\n",
      "True\n"
     ]
    }
   ],
   "source": [
    "#examples on boolean data type\n",
    "print(10>11)\n",
    "print(10==9)\n",
    "print(9<90)"
   ]
  },
  {
   "cell_type": "markdown",
   "id": "54efb99f-8177-4c60-88a4-8629dde5cedd",
   "metadata": {},
   "source": [
    "<h2 style=\"color:Orange; font-size:15px;\">\n",
    "    Operators in python<br>\n",
    "    - these are symbols or keywords that perform operations on variables or values<br>\n",
    "Types of operators:<br>\n",
    "- Arithmetic operators<br>\n",
    "- comparison operators<br>\n",
    "- logical operators<br>\n",
    "- assignment operators<br>\n",
    "-membership operators<br>\n",
    "-identity operators<br>\n",
    "-bitwise operators\n",
    "</h2>"
   ]
  },
  {
   "cell_type": "code",
   "execution_count": 123,
   "id": "f72cde96-0bc9-4c3e-b413-cf6df69ac552",
   "metadata": {},
   "outputs": [
    {
     "name": "stdout",
     "output_type": "stream",
     "text": [
      "Addition: {100}\n",
      "Subtraction: {52}\n",
      "multiplication: {1824}\n",
      "division: {3.1666666666666665}\n",
      "floor division: {3}\n",
      "modulus: {4}\n",
      "exponential: {1378879181903229284421282144252718341922226176}\n"
     ]
    }
   ],
   "source": [
    "#Arithmetic operators\n",
    "a=24\n",
    "b=76\n",
    "#addition\n",
    "t=a+b\n",
    "print(f\"Addition:\",{t})\n",
    "#subtraction\n",
    "s=b-a\n",
    "print(f\"Subtraction:\",{s})\n",
    "#multiplication\n",
    "p=b*a\n",
    "print(f\"multiplication:\",{p})\n",
    "#division\n",
    "d=b/a\n",
    "print(f\"division:\",{d})\n",
    "#floor division-gives the integer\n",
    "fd=b//a\n",
    "print(f\"floor division:\",{fd})\n",
    "#modulus-gives the remainder\n",
    "m=b % a\n",
    "print(f\"modulus:\",{m})\n",
    "#exponential\n",
    "e=b**a\n",
    "print(f\"exponential:\",{e})"
   ]
  },
  {
   "cell_type": "code",
   "execution_count": 126,
   "id": "fec46993-4de1-438b-8ea9-80143b4b0436",
   "metadata": {},
   "outputs": [
    {
     "name": "stdout",
     "output_type": "stream",
     "text": [
      "False\n",
      "True\n",
      "False\n",
      "False\n",
      "False\n",
      "True\n"
     ]
    }
   ],
   "source": [
    "#comparison operators\n",
    "#equal to\n",
    "a=10\n",
    "b=15\n",
    "print(a==b)\n",
    "#not equal to\n",
    "print(a!=b)\n",
    "#greater than\n",
    "print(a>b)\n",
    "#less than\n",
    "print(a>b)\n",
    "#greater than or equal to\n",
    "print(a >= b)\n",
    "#less than or equal to\n",
    "print(a <= b)"
   ]
  },
  {
   "cell_type": "code",
   "execution_count": 128,
   "id": "d9938f37-882e-42c3-898e-6878867a403b",
   "metadata": {},
   "outputs": [
    {
     "name": "stdout",
     "output_type": "stream",
     "text": [
      "Logical AND (x and y): False\n",
      "Logical OR (x or y): True\n",
      "Logical NOT (not x): False\n"
     ]
    }
   ],
   "source": [
    "#Logical operators\n",
    "x = True\n",
    "y = False\n",
    "\n",
    "# Logical AND-\tTrue if both are True\n",
    "print(\"Logical AND (x and y):\", x and y)  # Output: False\n",
    "\n",
    "# Logical OR-True if at least one is True\n",
    "print(\"Logical OR (x or y):\", x or y)  # Output: True\n",
    "\n",
    "# Logical NOT-\tReverses the result\n",
    "print(\"Logical NOT (not x):\", not x)  # Output: False"
   ]
  },
  {
   "cell_type": "code",
   "execution_count": 129,
   "id": "00e7bace-c1c8-4881-a4d9-232e7fbb3515",
   "metadata": {},
   "outputs": [
    {
     "name": "stdout",
     "output_type": "stream",
     "text": [
      "Basic Assignment: 10\n",
      "Addition Assignment: 25\n",
      "Subtraction Assignment: 20\n",
      "Multiplication Assignment: 80\n",
      "Division Assignment: 13.333333333333334\n",
      "Floor Division Assignment: 6.0\n",
      "Modulus Assignment: 0.0\n",
      "Exponentiation Assignment: 0.0\n"
     ]
    }
   ],
   "source": [
    "# Assignment operators\n",
    "# Define an initial value\n",
    "x = 10\n",
    "\n",
    "# Basic Assignment\n",
    "x = 10\n",
    "print(\"Basic Assignment:\", x)  \n",
    "\n",
    "# Addition Assignment\n",
    "x += 15  # Equivalent to x = x + 15\n",
    "print(\"Addition Assignment:\", x)  \n",
    "\n",
    "# Subtraction Assignment\n",
    "x -=5  # Equivalent to x = x - 5\n",
    "print(\"Subtraction Assignment:\", x) \n",
    "\n",
    "# Multiplication Assignment\n",
    "x *= 4  # Equivalent to x = x * 4\n",
    "print(\"Multiplication Assignment:\", x)  \n",
    "\n",
    "# Division Assignment\n",
    "x /= 6  # Equivalent to x = x / 6\n",
    "print(\"Division Assignment:\", x)  \n",
    "\n",
    "# Floor Division Assignment\n",
    "x //= 2  # Equivalent to x = x // 2\n",
    "print(\"Floor Division Assignment:\", x)  \n",
    "\n",
    "# Modulus Assignment\n",
    "x %= 3  # Equivalent to x = x % 3\n",
    "print(\"Modulus Assignment:\", x)  \n",
    "\n",
    "# Exponentiation Assignment\n",
    "x **= 2  # Equivalent to x = x ** 2\n",
    "print(\"Exponentiation Assignment:\", x)  "
   ]
  },
  {
   "cell_type": "code",
   "execution_count": 131,
   "id": "c5ec89f8-b202-4f2e-8392-d8c88277c825",
   "metadata": {},
   "outputs": [
    {
     "name": "stdout",
     "output_type": "stream",
     "text": [
      "True\n",
      "False\n"
     ]
    }
   ],
   "source": [
    "#Membership operators\n",
    "#in operators-True if value exists\n",
    "x='data analysis'\n",
    "print('data' in x)\n",
    "#not in operator- True if value does not exist\n",
    "print('data' not in x)"
   ]
  },
  {
   "cell_type": "code",
   "execution_count": 132,
   "id": "1fb0e3a6-a6ca-4032-80d4-ba4595de9f94",
   "metadata": {},
   "outputs": [
    {
     "name": "stdout",
     "output_type": "stream",
     "text": [
      "Identity is (x is z): True\n",
      "Identity is not (x is not y): True\n"
     ]
    }
   ],
   "source": [
    "#Identity operators\n",
    "#is- True if same object\n",
    "#is not- True if not same object\n",
    "x = [1, 2, 3]\n",
    "y = [1, 2, 3]\n",
    "z = x\n",
    "\n",
    "# Identity is\n",
    "print(\"Identity is (x is z):\", x is z)  # Output: True\n",
    "\n",
    "# Identity is not\n",
    "print(\"Identity is not (x is not y):\", x is not y)  # Output: True"
   ]
  },
  {
   "cell_type": "code",
   "execution_count": 133,
   "id": "d0ea92bb-b7d9-4c43-b6d4-cc70577c11c8",
   "metadata": {},
   "outputs": [
    {
     "name": "stdout",
     "output_type": "stream",
     "text": [
      "Bitwise AND (a & b): 12\n",
      "Bitwise OR (a | b): 61\n",
      "Bitwise XOR (a ^ b): 49\n",
      "Bitwise NOT (~a): -61\n",
      "Bitwise Left Shift (a << 2): 240\n",
      "Bitwise Right Shift (a >> 2): 15\n"
     ]
    }
   ],
   "source": [
    "# Bitwise operator\n",
    "# Define variables\n",
    "a = 60  # 0011 1100 in binary\n",
    "b = 13  # 0000 1101 in binary\n",
    "\n",
    "# Bitwise AND\n",
    "print(\"Bitwise AND (a & b):\", a & b)  # Output: 12 (0000 1100 in binary)\n",
    "\n",
    "# Bitwise OR\n",
    "print(\"Bitwise OR (a | b):\", a | b)  # Output: 61 (0011 1101 in binary)\n",
    "\n",
    "# Bitwise XOR\n",
    "print(\"Bitwise XOR (a ^ b):\", a ^ b)  # Output: 49 (0011 0001 in binary)\n",
    "\n",
    "# Bitwise NOT\n",
    "print(\"Bitwise NOT (~a):\", ~a)  # Output: -61 (inverted bits of a)\n",
    "\n",
    "# Bitwise Left Shift\n",
    "print(\"Bitwise Left Shift (a << 2):\", a << 2)  # Output: 240 (1111 0000 in binary)\n",
    "\n",
    "# Bitwise Right Shift\n",
    "print(\"Bitwise Right Shift (a >> 2):\", a >> 2)  # Output: 15 (0000 1111 in binary)"
   ]
  },
  {
   "cell_type": "markdown",
   "id": "0b0608a6-b71e-4726-a1a0-bd16cf3ddddc",
   "metadata": {},
   "source": [
    "<h2 style=\"color:Orange; font-size:15px;\">\n",
    "    List data type<br>\n",
    "    - these are ordered<br>\n",
    "-mutable-we can change the elements in a list<br>\n",
    "-indexed- elements can be accessed by indexing(starting from 0)<br>\n",
    "-it can contain duplicates<br>\n",
    "    -it can contain multiple data types\n",
    "</h2>"
   ]
  },
  {
   "cell_type": "code",
   "execution_count": 163,
   "id": "0a8eb3a2-21ee-4898-a10d-0eb10e0ddc5c",
   "metadata": {},
   "outputs": [
    {
     "name": "stdout",
     "output_type": "stream",
     "text": [
      "4\n",
      "----------------------------------------\n",
      "<class 'list'>\n",
      "----------------------------------------\n",
      "1\n",
      "naram\n",
      "----------------------------------------\n",
      "aparn\n",
      "----------------------------------------\n",
      "[12, 23, 'aparna', 'naram']\n",
      "----------------------------------------\n",
      "[12, 2, 23, 'aparna', 'naram']\n",
      "----------------------------------------\n",
      "[12, 2, 23, 'aparna', 'naram', 44]\n",
      "----------------------------------------\n",
      "[12, 2, 23, 'aparna', 'naram', 44, 6, 7]\n",
      "----------------------------------------\n",
      "[12, 2, 23, 'aparna', 'naram', 6, 7]\n",
      "----------------------------------------\n",
      "[12, 23, 'aparna', 'naram', 6, 7]\n",
      "----------------------------------------\n",
      "[]\n",
      "----------------------------------------\n",
      "[1, 3, 23, 56]\n",
      "[56, 23, 3, 1]\n",
      "56\n",
      "23\n",
      "3\n",
      "1\n",
      "----------------------------------------\n",
      "56\n",
      "23\n",
      "3\n",
      "1\n"
     ]
    }
   ],
   "source": [
    "#some list functions\n",
    "#len() to know the length of list\n",
    "l=[1,23,'aparna','naram']\n",
    "print(len(l))\n",
    "sep()\n",
    "#checking the data type\n",
    "print(type(l))\n",
    "sep()\n",
    "#indexing\n",
    "print(l[0])#accessing the first element\n",
    "print(l[-1])#accessign the last element\n",
    "sep()\n",
    "# to check if name is available\n",
    "result='aparn' if 'aparna' in l else 'appu'\n",
    "print(result)\n",
    "sep()\n",
    "#inserting new element\n",
    "l[0]=12\n",
    "print(l)\n",
    "sep()\n",
    "#inser(index,value)\n",
    "l.insert(1,2)\n",
    "print(l)\n",
    "sep()\n",
    "#append()-to insert at the end\n",
    "l.append(44)\n",
    "print(l)\n",
    "sep()\n",
    "#extend()-for adding multiple elements at the end\n",
    "l.extend([6,7])\n",
    "print(l)\n",
    "sep()\n",
    "#remove()- removes the first matching element\n",
    "l.remove(44)\n",
    "print(l)\n",
    "sep()\n",
    "#pop()-removes the element at index\n",
    "l.pop(1)\n",
    "print(l)\n",
    "sep()\n",
    "#clear()-removes all elements\n",
    "l.clear()\n",
    "print(l)\n",
    "sep()\n",
    "l=[1,23,3,56]\n",
    "#sort()-sorting the list\n",
    "l.sort()\n",
    "print(l)\n",
    "l.sort(reverse=True)\n",
    "print(l)\n",
    "#looping\n",
    "for i in l:\n",
    "    print(i)\n",
    "sep()\n",
    "#looping using indexing\n",
    "for i in range(len(l)):\n",
    "    print(l[i])"
   ]
  },
  {
   "cell_type": "markdown",
   "id": "00539c43-1423-4a09-8838-673d2924d598",
   "metadata": {},
   "source": [
    "<h2 style=\"color:Orange; font-size:15px;\">\n",
    "    tuple data type<br>\n",
    "    - elements are ordered<br>\n",
    "-elements can not be changed,removed or added<br>\n",
    "-allows duplicates<br>\n",
    "    -can contain mixed data types\n",
    "</h2>"
   ]
  },
  {
   "cell_type": "code",
   "execution_count": 169,
   "id": "bcb202e3-5667-45df-96a8-9048e02a67c8",
   "metadata": {},
   "outputs": [
    {
     "name": "stdout",
     "output_type": "stream",
     "text": [
      "5\n",
      "----------------------------------------\n",
      "<class 'tuple'>\n",
      "----------------------------------------\n",
      "1\n"
     ]
    }
   ],
   "source": [
    "#some tuple functions\n",
    "#len()-to know the length of tuple\n",
    "t=(1,2,3,4,'python')\n",
    "print(len(t))\n",
    "sep()\n",
    "#type()- to check the data type\n",
    "print(type(t))\n",
    "sep()\n",
    "#accessing the first element\n",
    "print(t[0])"
   ]
  },
  {
   "cell_type": "markdown",
   "id": "72a17326-303b-43a3-a3e0-22c12e15f723",
   "metadata": {},
   "source": [
    "<h2 style=\"color:Orange; font-size:15px;\">\n",
    "    set data type<br>\n",
    "    - elements are unordered<br>\n",
    "-elements can be changed,removed or added<br>\n",
    "-no duplicates are allowed<br>\n",
    "    -fast membership testing (in and not in) than lists<br>\n",
    "    -allows different data types inside\n",
    "</h2>"
   ]
  },
  {
   "cell_type": "code",
   "execution_count": 176,
   "id": "4b3fed1f-4f66-4f22-8610-831563d3dd6f",
   "metadata": {},
   "outputs": [
    {
     "name": "stdout",
     "output_type": "stream",
     "text": [
      "{'aparna', 1, 23}\n",
      "----------------------------------------\n",
      "3\n",
      "----------------------------------------\n",
      "{'aparna', 1, 2, 23}\n",
      "----------------------------------------\n",
      "{1, 2, 4, 5, 6, 23, 'aparna'}\n",
      "----------------------------------------\n",
      "{1, 2, 4, 5, 6, 23}\n"
     ]
    }
   ],
   "source": [
    "#some set functions\n",
    "s={1,23,'aparna',True}\n",
    "print(s)\n",
    "sep()\n",
    "#len()-to check the length\n",
    "print(len(s))\n",
    "sep()\n",
    "#add()- to add new element to set\n",
    "s.add(2)\n",
    "print(s)\n",
    "sep()\n",
    "#update()-to combine two sets\n",
    "s1={4,5,6}\n",
    "s.update(s1)\n",
    "print(s)\n",
    "sep()\n",
    "#remove()- to remove element\n",
    "s.remove('aparna')\n",
    "print(s)"
   ]
  },
  {
   "cell_type": "code",
   "execution_count": 177,
   "id": "a319a8d0-b22b-40f4-8071-bd0b476b7ff5",
   "metadata": {},
   "outputs": [
    {
     "name": "stdout",
     "output_type": "stream",
     "text": [
      "Union: {1, 2, 3, 4, 5}\n",
      "Union using union(): {1, 2, 3, 4, 5}\n",
      "Intersection: {3}\n",
      "Intersection using intersection(): {3}\n",
      "Difference: {1, 2}\n",
      "Difference using difference(): {1, 2}\n",
      "Symmetric Difference: {1, 2, 4, 5}\n",
      "Symmetric Difference using symmetric_difference(): {1, 2, 4, 5}\n",
      "Is Subset: True\n",
      "Is Subset using issubset(): True\n",
      "Is Superset: True\n",
      "Is Superset using issuperset(): True\n",
      "Are Disjoint: True\n",
      "After\n"
     ]
    }
   ],
   "source": [
    "#set operations\n",
    "\n",
    "# Union\n",
    "s1 = {1, 2, 3}\n",
    "s2 = {3, 4, 5}\n",
    "union_set = s1 | s2  # {1, 2, 3, 4, 5}\n",
    "print(\"Union:\", union_set)\n",
    "\n",
    "union_set = s1.union(s2)  # {1, 2, 3, 4, 5}\n",
    "print(\"Union using union():\", union_set)\n",
    "\n",
    "# Intersection\n",
    "intersection_set = s1 & s2  # {3}\n",
    "print(\"Intersection:\", intersection_set)\n",
    "\n",
    "intersection_set = s1.intersection(s2)  # {3}\n",
    "print(\"Intersection using intersection():\", intersection_set)\n",
    "\n",
    "# Difference\n",
    "difference_set = s1 - s2  # {1, 2}\n",
    "print(\"Difference:\", difference_set)\n",
    "\n",
    "difference_set = s1.difference(s2)  # {1, 2}\n",
    "print(\"Difference using difference():\", difference_set)\n",
    "\n",
    "# Symmetric Difference\n",
    "symmetric_diff_set = s1 ^ s2  # {1, 2, 4, 5}\n",
    "print(\"Symmetric Difference:\", symmetric_diff_set)\n",
    "\n",
    "symmetric_diff_set = s1.symmetric_difference(s2)  # {1, 2, 4, 5}\n",
    "print(\"Symmetric Difference using symmetric_difference():\", symmetric_diff_set)\n",
    "\n",
    "# Subset\n",
    "s3 = {1, 2}\n",
    "s4 = {1, 2, 3}\n",
    "is_subset = s3 <= s4  # True\n",
    "print(\"Is Subset:\", is_subset)\n",
    "\n",
    "is_subset = s3.issubset(s4)  # True\n",
    "print(\"Is Subset using issubset():\", is_subset)\n",
    "\n",
    "# Superset\n",
    "is_superset = s4 >= s3  # True\n",
    "print(\"Is Superset:\", is_superset)\n",
    "\n",
    "is_superset = s4.issuperset(s3)  # True\n",
    "print(\"Is Superset using issuperset():\", is_superset)\n",
    "\n",
    "# Disjoint\n",
    "s5 = {1, 2, 3}\n",
    "s6 = {4, 5, 6}\n",
    "are_disjoint = s5.isdisjoint(s6)  # True\n",
    "print(\"Are Disjoint:\", are_disjoint)\n",
    "\n",
    "# Add\n",
    "s7 = {1, 2, 3}\n",
    "s7.add(4)  # {1, 2, 3, 4}\n",
    "print(\"After\")"
   ]
  },
  {
   "cell_type": "markdown",
   "id": "06fadfe3-5976-4be9-8305-85489f8dce98",
   "metadata": {},
   "source": [
    "<h2 style=\"color:Orange; font-size:15px;\">\n",
    "    dictionary data type<br>\n",
    "    - it is unordered, mutable collection of key-value pairs<br>\n",
    "    -keys must be unique and immutable like numbers,strings or tuples<br>\n",
    "    -values can be of any data type\n",
    "</h2>"
   ]
  },
  {
   "cell_type": "code",
   "execution_count": null,
   "id": "30e01acd-670e-4afc-ae04-fa311d0aea01",
   "metadata": {},
   "outputs": [],
   "source": []
  }
 ],
 "metadata": {
  "kernelspec": {
   "display_name": "Python 3 (ipykernel)",
   "language": "python",
   "name": "python3"
  },
  "language_info": {
   "codemirror_mode": {
    "name": "ipython",
    "version": 3
   },
   "file_extension": ".py",
   "mimetype": "text/x-python",
   "name": "python",
   "nbconvert_exporter": "python",
   "pygments_lexer": "ipython3",
   "version": "3.13.1"
  }
 },
 "nbformat": 4,
 "nbformat_minor": 5
}
