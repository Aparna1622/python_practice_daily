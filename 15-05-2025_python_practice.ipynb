{
 "cells": [
  {
   "cell_type": "markdown",
   "id": "57f170bf-9781-4a91-b212-59ddf9baf455",
   "metadata": {},
   "source": [
    "<h2 style=\"color:blue; font-size:20px;\">Day-4_Practice</h2>"
   ]
  },
  {
   "cell_type": "markdown",
   "id": "602e4263-627f-4ca2-8c2d-7278cd4f4075",
   "metadata": {},
   "source": [
    "<h2 style=\"color:Orange; font-size:15px;\">\n",
    "    Examples on lambda function<br>\n",
    "    - lambda arguments:expression\n",
    "</h2>"
   ]
  },
  {
   "cell_type": "code",
   "execution_count": 3,
   "id": "eab512c5-95c1-4c5d-95c4-60fb60cf5c69",
   "metadata": {},
   "outputs": [
    {
     "name": "stdout",
     "output_type": "stream",
     "text": [
      "123\n"
     ]
    }
   ],
   "source": [
    "#1. adding two numbers\n",
    "add = lambda x,y: x+y\n",
    "\n",
    "print(add(34,89))"
   ]
  },
  {
   "cell_type": "code",
   "execution_count": 4,
   "id": "8dd17d40-8f5a-42f0-932b-53f770fd065f",
   "metadata": {},
   "outputs": [
    {
     "name": "stdout",
     "output_type": "stream",
     "text": [
      "144\n"
     ]
    }
   ],
   "source": [
    "#2. squaring a number\n",
    "square = lambda x: x **2\n",
    "\n",
    "print(square(12))"
   ]
  },
  {
   "cell_type": "code",
   "execution_count": 6,
   "id": "7354b018-c1e1-4a6a-9d91-c716383304f4",
   "metadata": {},
   "outputs": [
    {
     "name": "stdout",
     "output_type": "stream",
     "text": [
      "True\n",
      "False\n"
     ]
    }
   ],
   "source": [
    "#3. to check if a number is even or not\n",
    "even = lambda x : x % 2 == 0\n",
    "\n",
    "print(even(90))\n",
    "\n",
    "print(even(55))"
   ]
  },
  {
   "cell_type": "code",
   "execution_count": 8,
   "id": "f776b3a7-a142-4713-8ffb-e3578ae4b300",
   "metadata": {},
   "outputs": [
    {
     "name": "stdout",
     "output_type": "stream",
     "text": [
      "[(1, 3), (7, 9), (11, 45)]\n"
     ]
    }
   ],
   "source": [
    "#4. sorting a list of tuples by second element\n",
    "pairs = [(7,9),(1,3),(11,45)]\n",
    "sorted_pairs = sorted(pairs, key = lambda x : x[1])\n",
    "\n",
    "print(sorted_pairs)"
   ]
  },
  {
   "cell_type": "markdown",
   "id": "bd51ce56-c9c7-459e-9a58-9b9438bd196d",
   "metadata": {},
   "source": [
    "<h2 style=\"color:Orange; font-size:15px;\">\n",
    "    Examples on while loop<br>\n",
    "    - executes repeatedly until a condition is true\n",
    "</h2>"
   ]
  },
  {
   "cell_type": "code",
   "execution_count": 10,
   "id": "33c6e46d-3f0d-4698-a70d-7516b61dd057",
   "metadata": {},
   "outputs": [
    {
     "name": "stdout",
     "output_type": "stream",
     "text": [
      "1\n",
      "2\n",
      "3\n",
      "4\n",
      "5\n",
      "6\n",
      "7\n",
      "8\n",
      "9\n",
      "10\n"
     ]
    }
   ],
   "source": [
    "#1. printing numbers from 1 to 0\n",
    "i=1\n",
    "while i <= 10:\n",
    "    print(i)\n",
    "    i += 1"
   ]
  },
  {
   "cell_type": "code",
   "execution_count": 13,
   "id": "6a9ae920-c751-4164-951c-9b7bf3a4bf59",
   "metadata": {},
   "outputs": [
    {
     "name": "stdin",
     "output_type": "stream",
     "text": [
      "give a number: 12\n"
     ]
    },
    {
     "name": "stdout",
     "output_type": "stream",
     "text": [
      "sum: 78\n"
     ]
    }
   ],
   "source": [
    "#2.sum of first n natural\n",
    "n = int(input(\"give a number:\", ))\n",
    "\n",
    "total = 0\n",
    "i=1\n",
    "\n",
    "while i <= n:\n",
    "    total += i\n",
    "    i += 1\n",
    "print(\"sum:\", total)"
   ]
  },
  {
   "cell_type": "code",
   "execution_count": 14,
   "id": "66f9d02a-22bc-4290-a56a-bbbd80a73e36",
   "metadata": {},
   "outputs": [
    {
     "name": "stdin",
     "output_type": "stream",
     "text": [
      "Enter a number: 12\n"
     ]
    },
    {
     "name": "stdout",
     "output_type": "stream",
     "text": [
      "count: 2\n"
     ]
    }
   ],
   "source": [
    "#3. counting the digits in a number\n",
    "num = int(input(\"Enter a number:\",))\n",
    "\n",
    "count = 0\n",
    "while num > 0:\n",
    "    num //= 10\n",
    "    count += 1\n",
    "\n",
    "print(\"count:\",count)"
   ]
  },
  {
   "cell_type": "code",
   "execution_count": 18,
   "id": "4b7f078c-68f9-4818-83dc-cf15da4c8572",
   "metadata": {},
   "outputs": [
    {
     "name": "stdin",
     "output_type": "stream",
     "text": [
      "enter the number: 121\n"
     ]
    },
    {
     "name": "stdout",
     "output_type": "stream",
     "text": [
      "palindrome\n"
     ]
    }
   ],
   "source": [
    "#4. number is same as backward and forward\n",
    "num = int(input(\"enter the number:\",))\n",
    "original = num\n",
    "reverse = 0\n",
    "\n",
    "while num > 0:\n",
    "    digit = num % 10\n",
    "    reverse = reverse * 10 + digit\n",
    "    num //= 10\n",
    "\n",
    "if original == reverse:\n",
    "    print(\"palindrome\")\n",
    "else:\n",
    "    print(\"not palindrome\")"
   ]
  },
  {
   "cell_type": "markdown",
   "id": "7e976463-67ab-4c5a-9ee8-678e9f1042c5",
   "metadata": {},
   "source": [
    "<h2 style=\"color:Orange; font-size:15px;\">\n",
    "    problem statement<br>\n",
    "    - function to calculate total washing time\n",
    "</h2>"
   ]
  },
  {
   "cell_type": "code",
   "execution_count": 20,
   "id": "fb7673a7-615e-45e9-877c-dbed54e194e1",
   "metadata": {},
   "outputs": [
    {
     "name": "stdout",
     "output_type": "stream",
     "text": [
      "360\n",
      "378\n",
      "0\n",
      "378 0\n"
     ]
    },
    {
     "data": {
      "text/plain": [
       "'minutes:378,seconds:0'"
      ]
     },
     "execution_count": 20,
     "metadata": {},
     "output_type": "execute_result"
    }
   ],
   "source": [
    "# to calculate the total washing time\n",
    "\n",
    "def total_washing_time(times_per_day,months):\n",
    "    if times_per_day == 0 and months == 0:\n",
    "        return 0\n",
    "    else:\n",
    "        day = (months*30)\n",
    "        print(day)\n",
    "\n",
    "        time = times_per_day * day * 21\n",
    "        minutes = time // 60\n",
    "        print(minutes)\n",
    "        seconds = time % 60\n",
    "        print(seconds)\n",
    "\n",
    "        print(minutes,seconds)\n",
    "\n",
    "    return f\"minutes:{minutes},seconds:{seconds}\"\n",
    "\n",
    "total_washing_time(3,12)"
   ]
  },
  {
   "cell_type": "markdown",
   "id": "6a102d43-76ec-4d80-88b9-d01acac3807a",
   "metadata": {},
   "source": [
    "<h2 style=\"color:Orange; font-size:15px;\">\n",
    "    dir()<br>\n",
    "    - it is built in python function that returns a list of valid attributes and methods of an object<br>\n",
    "    - it helps us to inspect what functions, variables or properties an object has<br>\n",
    "    - useful during debugging or exploring new libraries<br>\n",
    "    - it helps to explore objects especially when we are working with unfamiliar or complex data types\n",
    "</h2>"
   ]
  },
  {
   "cell_type": "code",
   "execution_count": 21,
   "id": "1ca0eda8-2fc9-4957-b571-4a62f3900af3",
   "metadata": {},
   "outputs": [
    {
     "name": "stdout",
     "output_type": "stream",
     "text": [
      "['__annotations__', '__builtins__', '__call__', '__class__', '__closure__', '__code__', '__defaults__', '__delattr__', '__dict__', '__dir__', '__doc__', '__eq__', '__format__', '__ge__', '__get__', '__getattribute__', '__getstate__', '__globals__', '__gt__', '__hash__', '__init__', '__init_subclass__', '__kwdefaults__', '__le__', '__lt__', '__module__', '__name__', '__ne__', '__new__', '__qualname__', '__reduce__', '__reduce_ex__', '__repr__', '__setattr__', '__sizeof__', '__str__', '__subclasshook__', '__type_params__']\n"
     ]
    }
   ],
   "source": [
    "print(dir(add))"
   ]
  },
  {
   "cell_type": "markdown",
   "id": "c78bcd26-cdcd-4017-a5f8-4d49c3ee655d",
   "metadata": {},
   "source": [
    "<h2 style=\"color:Orange; font-size:15px;\">\n",
    "    python main function<br>\n",
    "    - it allows the file to both reusable as a module(imported without side effects) or runnable as \n",
    "    a standalone code<br>\n",
    "    - keeps our code organized and avoids unwanted code execution during imports<br>\n",
    "    - useful in the .py files to run\n",
    "</h2>"
   ]
  },
  {
   "cell_type": "code",
   "execution_count": 27,
   "id": "3766808b-bc30-43ab-ae0b-392fb9758eb3",
   "metadata": {},
   "outputs": [
    {
     "name": "stdout",
     "output_type": "stream",
     "text": [
      "Hello\n"
     ]
    }
   ],
   "source": [
    "def main():\n",
    "    print(\"Hello\")\n",
    "\n",
    "if __name__ == \"__main__\":\n",
    "    main()"
   ]
  },
  {
   "cell_type": "markdown",
   "id": "4c7b2d0e-e13d-4ed3-a96d-c8bf005e2673",
   "metadata": {},
   "source": [
    "<h2 style=\"color:Orange; font-size:15px;\">\n",
    "    Files and directories in python<br>\n",
    "    - import os: imports the os module, which provides functions for interacting with operating system\n",
    "    like working with files,folders,environment variables<br>\n",
    "    - os.getcwd-to get current working directory\n",
    "</h2>"
   ]
  },
  {
   "cell_type": "code",
   "execution_count": 30,
   "id": "668cacac-1897-40f8-a772-9aa3ebaaac2e",
   "metadata": {},
   "outputs": [
    {
     "name": "stdout",
     "output_type": "stream",
     "text": [
      "C:\\Users\\user\\Desktop\\15-05-2025_practice\n"
     ]
    }
   ],
   "source": [
    "import os\n",
    "\n",
    "print(os.getcwd())"
   ]
  },
  {
   "cell_type": "code",
   "execution_count": 31,
   "id": "0ce02fb6-4ce1-4818-a363-d45e699ca52a",
   "metadata": {},
   "outputs": [
    {
     "data": {
      "text/plain": [
       "'c:\\\\Users'"
      ]
     },
     "execution_count": 31,
     "metadata": {},
     "output_type": "execute_result"
    }
   ],
   "source": [
    "#changing the directory\n",
    "\n",
    "import os\n",
    "os.chdir(\"c:/Users\")\n",
    "os.getcwd()"
   ]
  },
  {
   "cell_type": "markdown",
   "id": "064f1d4e-7a31-42eb-8998-4d7ced301cd9",
   "metadata": {},
   "source": [
    "<h2 style=\"color:Orange; font-size:15px;\">\n",
    "    Exceptions in python<br>\n",
    "    - exceptions disrupt the normal flow of a program's execution<br>\n",
    "    - these can be handled using try and except blocks<br>\n",
    "    - try block contains the code that might raise an exception<br>\n",
    "    - except is where we handle the exception raised by try block<br>\n",
    "    - finally block contains code that will run no matter what happens in try and except blocks\n",
    "</h2>"
   ]
  },
  {
   "cell_type": "markdown",
   "id": "60d92d50-c935-414d-8754-e9e08702e8ed",
   "metadata": {},
   "source": [
    "<h2 style=\"color:Orange; font-size:15px;\">\n",
    "    common python exceptions<br>\n",
    "    - Syntaxerror: raised when there is a syntax error in the code<br>\n",
    "    - TypeError: Raised when an operation or function is applied to an object of inappropriate type.<br>\n",
    "    - IndexError: Raised when a sequence index is out of range.<br>\n",
    "    - KeyError: Raised when a dictionary key is not found.<br>\n",
    "    - ValueError: Raised when a function receives an argument of the correct type but inappropriate value.<br>\n",
    "    - AttributeError: Raised when an attribute reference or assignment fails.<br>\n",
    "    - NameError: Raised when a local or global name is not found.<br>\n",
    "    - ZeroDivisionError: Raised when division by zero occurs.<br>\n",
    "    - FileNotFoundError: Raised when an attempt to open a file that does not exist fails.<br>\n",
    "    - ImportError: Raised when an import statement fails to find the module definition or when a from import fails to find a name that is to be imported.\n",
    "</h2>"
   ]
  },
  {
   "cell_type": "code",
   "execution_count": 68,
   "id": "f7aca266-3e4a-4724-9e22-da4b52c55e74",
   "metadata": {},
   "outputs": [],
   "source": [
    "def exception_examples():\n",
    "    try:\n",
    "        # TypeError example\n",
    "        result = '2' + 2  # Trying to add a string and an integer\n",
    "    except TypeError as e:\n",
    "        print(f\"TypeError: {e}\")\n",
    "  \n",
    "    try:\n",
    "        # IndexError example\n",
    "        lst = [1, 2, 3]\n",
    "        print(lst[5])  # Accessing out-of-range index\n",
    "    except IndexError as e:\n",
    "        print(f\"IndexError: {e}\")\n",
    "\n",
    "    try:\n",
    "        #KeyError example\n",
    "        d={'a':1,'b':2,'c':3}\n",
    "        print(d['e'])#accessing a non existing key\n",
    "    except KeyError as e:\n",
    "        print(f\"KeyError:{e}\")\n",
    "\n",
    "    try:\n",
    "        #ValueError example\n",
    "        num = int('xyz') #converting a string to an integer\n",
    "    except ValueError as e:\n",
    "        print(f\"ValueError:{e}\")\n",
    "\n",
    "    try:\n",
    "        #AttributeError example\n",
    "        x = 10\n",
    "        x.append(6) #trying to use a method not applicable to the object\n",
    "    except AttributeError as e: \n",
    "        print(f\"AttributeError:{e}\")\n",
    "\n",
    "    try:\n",
    "        #example on ZeroDivisionnError\n",
    "        result = 10/0 #Division by 0\n",
    "    except ZeroDivisionError as e:\n",
    "        print(f\"ZeroDivisionError:{e}\")\n",
    "\n",
    "    try:\n",
    "        #FileNotFoundError\n",
    "        with open('dummy.txt','r') as f: #importing a non-existing file\n",
    "            content=f.read()\n",
    "    except FileNotFoundError as e:\n",
    "        print(f\"FileNotFoundError:{e}\")\n",
    "\n",
    "    try:\n",
    "        #ImportError\n",
    "        import non_existing_module #importing a non-existing module\n",
    "    except ImportError as e:\n",
    "        print(f\"ImportError:{e}\")"
   ]
  },
  {
   "cell_type": "code",
   "execution_count": 69,
   "id": "bfb5e53f-a62c-4a2f-b16e-7ba6bbc59b0b",
   "metadata": {},
   "outputs": [
    {
     "name": "stdout",
     "output_type": "stream",
     "text": [
      "TypeError: can only concatenate str (not \"int\") to str\n",
      "IndexError: list index out of range\n",
      "KeyError:'e'\n",
      "ValueError:invalid literal for int() with base 10: 'xyz'\n",
      "AttributeError:'int' object has no attribute 'append'\n",
      "ZeroDivisionError:division by zero\n",
      "FileNotFoundError:[Errno 2] No such file or directory: 'dummy.txt'\n",
      "ImportError:No module named 'non_existing_module'\n"
     ]
    }
   ],
   "source": [
    "exception_examples()"
   ]
  },
  {
   "cell_type": "code",
   "execution_count": 70,
   "id": "6116f72d-aa67-489c-b634-b11ec9c7c048",
   "metadata": {},
   "outputs": [
    {
     "name": "stdin",
     "output_type": "stream",
     "text": [
      "Give number 12\n"
     ]
    },
    {
     "name": "stdout",
     "output_type": "stream",
     "text": [
      "division by zero\n",
      "this block always runs\n"
     ]
    }
   ],
   "source": [
    "#Finally block\n",
    "try: \n",
    "    num = int(input(\"Give number\",))\n",
    "    result = num / 0\n",
    "    print(result)\n",
    "except ZeroDivisionError as e:\n",
    "    print(e)\n",
    "finally:\n",
    "    print(\"this block always runs\")"
   ]
  },
  {
   "cell_type": "markdown",
   "id": "64c8a09f-6364-4d22-ac04-0983835ecafd",
   "metadata": {},
   "source": [
    "<h2 style=\"color:Orange; font-size:15px;\">\n",
    "    arrays<br>\n",
    "    - these are more specialized for storing homogenous data(items with same data type)<br>\n",
    "    - these are more efficient and faster for numerical operations.<br>\n",
    "    - it requires importing the array module or using libraries like Numpy for advanced numerical computations\n",
    "</h2>"
   ]
  },
  {
   "cell_type": "code",
   "execution_count": 73,
   "id": "8112fd61-0d79-4433-9343-5cb0189fb344",
   "metadata": {},
   "outputs": [
    {
     "name": "stdout",
     "output_type": "stream",
     "text": [
      "array('i', [1, 2, 3, 4])\n",
      "None\n",
      "array('i', [1, 2, 3, 4, 5])\n"
     ]
    }
   ],
   "source": [
    "# examples\n",
    "from array import array\n",
    "my_array = array('i',[1,2,3,4])\n",
    "print(my_array)\n",
    "print(my_array.append(5)) #can append only integers\n",
    "print(my_array)"
   ]
  },
  {
   "cell_type": "code",
   "execution_count": null,
   "id": "671e5bda-47a9-41b6-b3bf-f38b806d7d95",
   "metadata": {},
   "outputs": [],
   "source": []
  }
 ],
 "metadata": {
  "kernelspec": {
   "display_name": "Python 3 (ipykernel)",
   "language": "python",
   "name": "python3"
  },
  "language_info": {
   "codemirror_mode": {
    "name": "ipython",
    "version": 3
   },
   "file_extension": ".py",
   "mimetype": "text/x-python",
   "name": "python",
   "nbconvert_exporter": "python",
   "pygments_lexer": "ipython3",
   "version": "3.13.1"
  }
 },
 "nbformat": 4,
 "nbformat_minor": 5
}
