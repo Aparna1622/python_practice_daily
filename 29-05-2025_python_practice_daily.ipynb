{
 "cells": [
  {
   "cell_type": "markdown",
   "id": "30d2727e-5f82-41ae-bcf3-2e344b504aff",
   "metadata": {},
   "source": [
    "<h2 style=\"color:blue; font-size:20px;\">Day-6_Practice</h2>"
   ]
  },
  {
   "cell_type": "markdown",
   "id": "085c095f-5829-4a31-8e13-e0a810518bfc",
   "metadata": {},
   "source": [
    "<h2 style=\"color:Orange; font-size:15px;\">\n",
    "    Inheritance<br>\n",
    "   - one class inherits properties and methods from another\n",
    "</h2>"
   ]
  },
  {
   "cell_type": "code",
   "execution_count": 4,
   "id": "d221040b-afcb-4219-9057-85cf11b40024",
   "metadata": {},
   "outputs": [
    {
     "name": "stdout",
     "output_type": "stream",
     "text": [
      "I can eat\n",
      "My name is: Chintu\n"
     ]
    }
   ],
   "source": [
    "#example-1\n",
    "#define class\n",
    "class animal:\n",
    "    #define variable and method of the parent class\n",
    "    name = \"\"\n",
    "\n",
    "    def eat(self):\n",
    "        print(\"I can eat\")\n",
    "        \n",
    "#inherit from animal\n",
    "class dog(animal):\n",
    "\n",
    "    #new method in subclass\n",
    "    def display(self):\n",
    "        #access name attribute of super class using self\n",
    "        print(\"My name is:\",self.name)\n",
    "\n",
    "#create an object of subclass\n",
    "labrador=dog()\n",
    "\n",
    "#access super class attribute and method\n",
    "labrador.name=\"Chintu\"\n",
    "labrador.eat()\n",
    "\n",
    "#call subclass method\n",
    "labrador.display()"
   ]
  },
  {
   "cell_type": "code",
   "execution_count": 8,
   "id": "59aa130f-6216-40a5-9b48-751a80ea7b24",
   "metadata": {},
   "outputs": [
    {
     "name": "stdout",
     "output_type": "stream",
     "text": [
      "Name:Rishi\n",
      "Age is:17\n"
     ]
    }
   ],
   "source": [
    "#example-2\n",
    "#single inheritance\n",
    "#a->b\n",
    "class Parent:\n",
    "    def __init__(self,name):\n",
    "        self.name = name\n",
    "    def display_name(self):\n",
    "        print(f\"Name:{self.name}\")\n",
    "\n",
    "class Child(Parent):\n",
    "    def __init__(self,name,age):\n",
    "        super().__init__(name)\n",
    "        self.age = age\n",
    "\n",
    "    def display_age(self):\n",
    "        print(f\"Age is:{self.age}\")\n",
    "\n",
    "#Usage\n",
    "child = Child(\"Rishi\",17)\n",
    "child.display_name()\n",
    "child.display_age()"
   ]
  },
  {
   "cell_type": "code",
   "execution_count": 10,
   "id": "cfd684ba-e9a3-4cf3-ad0e-5b017d309fa0",
   "metadata": {},
   "outputs": [
    {
     "name": "stdout",
     "output_type": "stream",
     "text": [
      "Father's name:Ram\n",
      "Mother's name:Seetha\n",
      "Child's Name:Lav\n"
     ]
    }
   ],
   "source": [
    "#double inheritance\n",
    "#a->c\n",
    "#b->c\n",
    "class Father:\n",
    "    def __init__(self,father_name):\n",
    "        self.father_name = father_name\n",
    "\n",
    "    def display_father_name(self):\n",
    "        print(f\"Father's name:{self.father_name}\")\n",
    "\n",
    "class Mother:\n",
    "    def __init__(self,mother_name):\n",
    "        self.mother_name = mother_name\n",
    "\n",
    "    def display_mother_name(self):\n",
    "        print(f\"Mother's name:{self.mother_name}\")\n",
    "\n",
    "class Child(Father,Mother):\n",
    "    def __init__(self,father_name,mother_name,child_name):\n",
    "        Father.__init__(self,father_name)\n",
    "        Mother.__init__(self,mother_name)\n",
    "        self.child_name =  child_name\n",
    "\n",
    "    def display_child_name(self):\n",
    "        print(f\"Child's Name:{self.child_name}\")\n",
    "\n",
    "#usage\n",
    "child=Child(\"Ram\",\"Seetha\",\"Lav\")\n",
    "child.display_father_name()\n",
    "child.display_mother_name()\n",
    "child.display_child_name()"
   ]
  },
  {
   "cell_type": "code",
   "execution_count": 12,
   "id": "434d67e3-757e-471d-a17e-37a5f43e9637",
   "metadata": {},
   "outputs": [
    {
     "name": "stdout",
     "output_type": "stream",
     "text": [
      "Grand parent name:Ram\n",
      "Parent's name:Veer\n",
      "Child's name:Jit\n"
     ]
    }
   ],
   "source": [
    "#example-3\n",
    "#multi level inheritance\n",
    "#a->b->c\n",
    "\n",
    "class Grandparent:\n",
    "    def __init__(self,grand_parent_name):\n",
    "        self.grand_parent_name = grand_parent_name\n",
    "    def display_grand_parent_name(self):\n",
    "        print(f\"Grand parent name:{self.grand_parent_name}\")\n",
    "\n",
    "class Parent(Grandparent):\n",
    "    def __init__(self,grand_parent_name,parent_name):\n",
    "        super().__init__(grand_parent_name)\n",
    "        self.parent_name = parent_name\n",
    "        \n",
    "    def display_parent_name(self):\n",
    "        print(f\"Parent's name:{self.parent_name}\")\n",
    "\n",
    "class Child(Parent):\n",
    "    def __init__(self,grand_parent_name,parent_name,child_name):\n",
    "        super().__init__(grand_parent_name,parent_name)\n",
    "        self.child_name = child_name\n",
    "\n",
    "    def display_child_name(self):\n",
    "        print(f\"Child's name:{self.child_name}\")\n",
    "\n",
    "#usage\n",
    "child = Child(\"Ram\",\"Veer\",\"Jit\")\n",
    "child.display_grand_parent_name()\n",
    "child.display_parent_name()\n",
    "child.display_child_name()"
   ]
  },
  {
   "cell_type": "code",
   "execution_count": 14,
   "id": "820f8b89-b1dc-4a63-85f8-0cff6b72c78b",
   "metadata": {},
   "outputs": [
    {
     "name": "stdout",
     "output_type": "stream",
     "text": [
      "Name:Aparna\n",
      "Role:Child1\n",
      "Name:Raj\n",
      "Role:Child2\n"
     ]
    }
   ],
   "source": [
    "#hierarchical inheritance\n",
    "#a->b\n",
    "#a->c\n",
    "#a->d\n",
    "class Parent:\n",
    "    def __init__(self,name):\n",
    "        self.name = name\n",
    "\n",
    "    def display_name(self):\n",
    "        print(f\"Name:{self.name}\")\n",
    "\n",
    "class Child1(Parent):\n",
    "    def display_role(self):\n",
    "        print(\"Role:Child1\")\n",
    "\n",
    "class Child2(Parent):\n",
    "    def display_role(self):\n",
    "        print(\"Role:Child2\")\n",
    "#usage\n",
    "child1 = Child1(\"Aparna\")\n",
    "child1.display_name()\n",
    "child1.display_role()\n",
    "\n",
    "child2 = Child2(\"Raj\")\n",
    "child2.display_name()\n",
    "child2.display_role()"
   ]
  },
  {
   "cell_type": "code",
   "execution_count": 15,
   "id": "54811c95-940f-42b7-9f3e-0cca51541037",
   "metadata": {},
   "outputs": [
    {
     "name": "stdout",
     "output_type": "stream",
     "text": [
      "This is Grand parent\n",
      "This is Parent1\n",
      "This is Parent2\n",
      "This is child\n"
     ]
    }
   ],
   "source": [
    "#Hybrid inheritance\n",
    "#combination of two or more types of inheritance\n",
    "class Grandparent:\n",
    "    def display_grand_parent(self):\n",
    "        print(\"This is Grand parent\")\n",
    "\n",
    "class Parent1(Grandparent):\n",
    "    def display_parent1(self):\n",
    "        print(\"This is Parent1\")\n",
    "\n",
    "class Parent2(Grandparent):\n",
    "    def display_parent2(self):\n",
    "        print(\"This is Parent2\")\n",
    "\n",
    "class Child(Parent1,Parent2):\n",
    "    def display_child(self):\n",
    "        print(\"This is child\")\n",
    "\n",
    "#usage\n",
    "child = Child()\n",
    "child.display_grand_parent()\n",
    "child.display_parent1()\n",
    "child.display_parent2()\n",
    "child.display_child()"
   ]
  },
  {
   "cell_type": "markdown",
   "id": "d6d7ccb1-2c17-405c-8d39-de6d91e44540",
   "metadata": {},
   "source": [
    "<h2 style=\"color:Orange; font-size:15px;\">\n",
    "    Polymorphism<br>\n",
    "   - it allows objects of different classes to be treated as objects of common super\n",
    "       class<br>\n",
    "    - while creating class methods, Python allows different classes to have methods with        the same name<br>\n",
    "</h2>"
   ]
  },
  {
   "cell_type": "code",
   "execution_count": 19,
   "id": "09caf075-2897-4654-a727-1322f686359f",
   "metadata": {},
   "outputs": [
    {
     "name": "stdout",
     "output_type": "stream",
     "text": [
      "Ford\n",
      "Mustang\n",
      "Move!\n",
      "Ibiza\n",
      "Touring 20\n",
      "Sail!\n",
      "Boeing\n",
      "747\n",
      "Fly!\n"
     ]
    }
   ],
   "source": [
    "#example-1\n",
    "class Vehicle:\n",
    "    def __init__(self,brand,model):\n",
    "        self.brand = brand\n",
    "        self.model = model\n",
    "\n",
    "    def Move(self):\n",
    "        print(\"Move!\")\n",
    "\n",
    "class Car(Vehicle):\n",
    "    pass\n",
    "\n",
    "class Boat(Vehicle):\n",
    "    def Move(self):\n",
    "        print(\"Sail!\")\n",
    "\n",
    "class Flight(Vehicle):\n",
    "    def Move(self):\n",
    "        print(\"Fly!\")\n",
    "\n",
    "car1 = Car(\"Ford\", \"Mustang\") #creating car object\n",
    "boat1 = Boat(\"Ibiza\", \"Touring 20\") #creating boat object\n",
    "flight1 = Flight(\"Boeing\", \"747\") # creating flight object\n",
    "\n",
    "for x in (car1,boat1,flight1):\n",
    "    print(x.brand)\n",
    "    print(x.model)\n",
    "    x.Move()"
   ]
  },
  {
   "cell_type": "code",
   "execution_count": 21,
   "id": "907d564a-9d0f-43c2-bfe7-4c3f7dd6f712",
   "metadata": {},
   "outputs": [
    {
     "name": "stdout",
     "output_type": "stream",
     "text": [
      "Square\n",
      "16\n",
      "Squares have each angle equal to 90 degrees\n",
      "Circle\n",
      "28.274333882308138\n",
      "I am a two dimentional shape\n",
      "None\n"
     ]
    }
   ],
   "source": [
    "#example 2\n",
    "from math import pi\n",
    "class Shape:\n",
    "    def __init__(self,name):\n",
    "        self.name = name\n",
    "\n",
    "    def area(self):\n",
    "        pass\n",
    "\n",
    "    def fact(self):\n",
    "        print(\"I am a two dimentional shape\")\n",
    "\n",
    "    def __str__(self):\n",
    "        return self.name\n",
    "\n",
    "class Sqare(Shape):\n",
    "    def __init__(self,length):\n",
    "        super().__init__(\"Square\")\n",
    "        self.length = length\n",
    "\n",
    "    def area(self):\n",
    "        return self.length**2\n",
    "\n",
    "    def fact(self):\n",
    "        return \"Squares have each angle equal to 90 degrees\"\n",
    "\n",
    "class Circle(Shape):\n",
    "    def __init__(self,radius):\n",
    "        super().__init__(\"Circle\")\n",
    "        self.radius = radius\n",
    "\n",
    "    def area(self):\n",
    "        return pi*self.radius**2\n",
    "\n",
    "#usage\n",
    "a = Sqare(4)\n",
    "print(a)\n",
    "print(a.area())\n",
    "print(a.fact())\n",
    "\n",
    "b = Circle(3)\n",
    "print(b)\n",
    "print(b.area())\n",
    "print(b.fact())"
   ]
  },
  {
   "cell_type": "markdown",
   "id": "d4adcaa2-acc4-4b70-9267-dff43012fdd5",
   "metadata": {},
   "source": [
    "<h2 style=\"color:Orange; font-size:15px;\">\n",
    "    Encapsulation<br>\n",
    "   - it helps in bundling data(attributes) and methods(functions) that operate on the \n",
    "    data into single unit typically a class<br>\n",
    "   - it restricts direct access to some of the object's components, which is essential for \n",
    "   maintaining control over how data data is accessed or modified\n",
    "   Key Features of encapsulation:\n",
    "   -Public\n",
    "    \n",
    "</h2>"
   ]
  },
  {
   "cell_type": "code",
   "execution_count": null,
   "id": "13f24a41-6140-4edb-b241-6bf5254e6563",
   "metadata": {},
   "outputs": [],
   "source": []
  }
 ],
 "metadata": {
  "kernelspec": {
   "display_name": "Python 3 (ipykernel)",
   "language": "python",
   "name": "python3"
  },
  "language_info": {
   "codemirror_mode": {
    "name": "ipython",
    "version": 3
   },
   "file_extension": ".py",
   "mimetype": "text/x-python",
   "name": "python",
   "nbconvert_exporter": "python",
   "pygments_lexer": "ipython3",
   "version": "3.13.1"
  }
 },
 "nbformat": 4,
 "nbformat_minor": 5
}
