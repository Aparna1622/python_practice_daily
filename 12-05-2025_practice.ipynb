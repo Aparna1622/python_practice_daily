{
 "cells": [
  {
   "cell_type": "markdown",
   "id": "2b3b2675-2180-4249-9f4c-1df2b9a47637",
   "metadata": {},
   "source": [
    "<h2 style=\"color:blue; font-size:20px;\">Day-2_Practice</h2>"
   ]
  },
  {
   "cell_type": "markdown",
   "id": "1e7ced33-8a5a-462d-8638-d95312a336f7",
   "metadata": {},
   "source": [
    "<h2 style=\"color:Orange; font-size:15px;\">\n",
    "    dictionary data type<br>\n",
    "    - it is unordered, mutable collection of key-value pairs<br>\n",
    "    -keys must be unique and immutable like numbers,strings or tuples<br>\n",
    "    -values can be of any data type\n",
    "</h2>"
   ]
  },
  {
   "cell_type": "code",
   "execution_count": 3,
   "id": "94902c84-9f99-4080-b69a-23c192ba42a5",
   "metadata": {},
   "outputs": [
    {
     "name": "stdout",
     "output_type": "stream",
     "text": [
      "-----------------------------------\n"
     ]
    }
   ],
   "source": [
    "def sep():\n",
    "    print(\"-------\"*5)\n",
    "sep()"
   ]
  },
  {
   "cell_type": "code",
   "execution_count": 35,
   "id": "1b070960-c53b-44ed-9b3f-90deb372f300",
   "metadata": {},
   "outputs": [
    {
     "name": "stdout",
     "output_type": "stream",
     "text": [
      "example of dictionary {'name': 'aparna', 'age': 27, 'height': 5.1}\n",
      "-----------------------------------\n",
      "length of the dictionary 3\n",
      "-----------------------------------\n",
      "value of the dictionary aparna\n",
      "-----------------------------------\n",
      "x None\n",
      "-----------------------------------\n",
      "values in the dictionary: dict_values(['aparna', 27, 5.1])\n",
      "-----------------------------------\n",
      "values in the dictionary: dict_keys(['name', 'age', 'height'])\n",
      "-----------------------------------\n",
      "27\n",
      "-----------------------------------\n",
      "items in the dictionary dict_items([('name', 'aparna'), ('age', 27), ('height', 5.1)])\n",
      "-----------------------------------\n",
      "after update({'name':'naram','weight':55}) None\n",
      "{'name': 'naram', 'age': 27, 'height': 5.1, 'weight': 55}\n",
      "-----------------------------------\n",
      "removing age from dict 27\n",
      "{'name': 'naram', 'height': 5.1, 'weight': 55}\n",
      "-----------------------------------\n",
      "pop_item ('weight', 55)\n",
      "after_pop {'name': 'naram', 'height': 5.1}\n",
      "-----------------------------------\n",
      "setdefault value('color':'white'): white\n",
      "after setdefault('color':'white'): {'name': 'naram', 'height': 5.1, 'color': 'white'}\n",
      "-----------------------------------\n",
      "copy(): {'name': 'naram', 'height': 5.1, 'color': 'white'}\n",
      "-----------------------------------\n",
      "after clear: {}\n"
     ]
    }
   ],
   "source": [
    "#defining the dictionary\n",
    "my_dict={\n",
    "    'name':'aparna',\n",
    "    'age':27,\n",
    "    'height': 5.1}\n",
    "print(\"example of dictionary\",my_dict)\n",
    "sep()\n",
    "#len()- to know the length of dictionary\n",
    "print(\"length of the dictionary\",len(my_dict))\n",
    "sep()\n",
    "#to know the values of the dictionary\n",
    "print(\"value of the dictionary\",my_dict['name'])\n",
    "sep()\n",
    "x = my_dict.get(\"model\")\n",
    "print(\"x\",x)\n",
    "sep()\n",
    "#to know all the values in the dictionary\n",
    "print(\"values in the dictionary:\",my_dict.values())\n",
    "sep()\n",
    "#to know all the keys in the dictionary\n",
    "print(\"values in the dictionary:\",my_dict.keys())\n",
    "sep()\n",
    "#get()-to know the value of a respective key\n",
    "print(my_dict.get('age'))\n",
    "sep()\n",
    "#items()-to return the items in dictionary\n",
    "print(\"items in the dictionary\",my_dict.items())\n",
    "sep()\n",
    "#update()-adds new items and update existing ones\n",
    "print(\"after update({'name':'naram','weight':55})\",my_dict.update({'name':'naram','weight':55}))\n",
    "print(my_dict)\n",
    "sep()\n",
    "#pop()-to remove a key from dictionary and returns its value\n",
    "print(\"removing age from dict\",my_dict.pop('age'))\n",
    "print(my_dict)\n",
    "sep()\n",
    "#popitem()-to remove and return last inserted key_value pair as tuple\n",
    "pop_item=my_dict.popitem()#removes 'weight'\n",
    "print(\"pop_item\",pop_item)\n",
    "print(\"after_pop\",my_dict)\n",
    "sep()\n",
    "#setdefault()-to get the value of specified key and inserts the key with specific default value if key is not present\n",
    "value=my_dict.setdefault('color','white')\n",
    "print(\"setdefault value('color':'white'):\",value)\n",
    "print(\"after setdefault('color':'white'):\",my_dict)\n",
    "sep()\n",
    "#copy()-creates a shallow copy of the dictionary\n",
    "d=my_dict.copy()\n",
    "print(\"copy():\",d)\n",
    "sep()\n",
    "#clear()-to clear all the elements of the dictionary\n",
    "my_dict.clear()\n",
    "print(\"after clear:\",my_dict)"
   ]
  },
  {
   "cell_type": "markdown",
   "id": "411e4db4-d390-45a2-a852-982d60d4a860",
   "metadata": {},
   "source": [
    "<h2 style=\"color:Orange; font-size:15px;\">\n",
    "    if-elif-else in Python<br>\n",
    "    if – Executes a block of code only if the specified condition is true<br>\n",
    "    elif – (short for \"else if\") Used to check another condition if the previous one was false<br>\n",
    "    else – Executes a block of code if all previous conditions are false<br>\n",
    "</h2>"
   ]
  },
  {
   "cell_type": "code",
   "execution_count": 41,
   "id": "2ecdba98-b38f-4477-af5b-811aecc92463",
   "metadata": {},
   "outputs": [
    {
     "name": "stdout",
     "output_type": "stream",
     "text": [
      "x is less than y\n",
      "-----------------------------------\n",
      "x is less than y\n",
      "-----------------------------------\n",
      "A\n"
     ]
    }
   ],
   "source": [
    "#if-elif-else\n",
    "x=10\n",
    "y=24\n",
    "if x<y:\n",
    "    print(\"x is less than y\")\n",
    "elif x==y:\n",
    "    print(\"x and y are equal\")\n",
    "else:\n",
    "    print(\"x is greater than y\")\n",
    "sep()\n",
    "#single line if condition\n",
    "if x<y:print(\"x is less than y\")\n",
    "sep()\n",
    "print(\"A\") if x<y else print(\"B\")"
   ]
  },
  {
   "cell_type": "code",
   "execution_count": 42,
   "id": "e109ac04-1f7e-4c53-9ef6-34e3fec7c5cf",
   "metadata": {},
   "outputs": [
    {
     "name": "stdout",
     "output_type": "stream",
     "text": [
      "both the conditions are true\n",
      "atleast one of the conditions is true\n",
      "x is not less than y\n"
     ]
    }
   ],
   "source": [
    "#more conditions\n",
    "x=100\n",
    "y=50\n",
    "z=89\n",
    "#and\n",
    "if x>y and x>z:\n",
    "    print(\"both the conditions are true\")\n",
    "#or\n",
    "if x>y and x>z:\n",
    "    print(\"atleast one of the conditions is true\")\n",
    "#not\n",
    "if not x<y:\n",
    "    print(\"x is not less than y\")"
   ]
  },
  {
   "cell_type": "markdown",
   "id": "2e1526ec-c727-44e0-8856-e69f6ced270d",
   "metadata": {},
   "source": [
    "<h2 style=\"color:Orange; font-size:15px;\">\n",
    "    Loops in python<br>\n",
    "    - Loop is used to execute a block of code repeatedly either a set number of times or while a condition is true<br>\n",
    "    Two types of Loops<br>\n",
    "    1.for loop:<br>\n",
    "    -it is used to iterate over a sequence (like string,list,tuple or range). it executes a block of code for each item in the sequence<br>\n",
    "    2.while loop:<br>\n",
    "    -while loop continues executing as long as the specified condition is true\n",
    "</h2>"
   ]
  },
  {
   "cell_type": "code",
   "execution_count": 46,
   "id": "a9c1fa8f-5c20-4dc6-aeee-bdc0a1df4fb5",
   "metadata": {},
   "outputs": [
    {
     "name": "stdout",
     "output_type": "stream",
     "text": [
      "['apple', 'banana', 'mango']\n",
      "-----------------------------------\n",
      "['apple', 'banana', 'mango']\n"
     ]
    }
   ],
   "source": [
    "#  using for and if condition in two ways \n",
    "# normal method and list comprehension \n",
    "\n",
    "fruits = [\"apple\", \"banana\", \"cherry\", \"kiwi\", \"mango\"]\n",
    "\n",
    "newlist = [x for x in fruits if \"a\" in x]\n",
    "\n",
    "print(newlist)\n",
    "sep()\n",
    "res=[]\n",
    "for i in fruits:\n",
    "    if \"a\" in i:\n",
    "        res.append(i)\n",
    "print(res)"
   ]
  },
  {
   "cell_type": "code",
   "execution_count": 47,
   "id": "a01ae74f-c806-4266-80ed-7b41b5f611f2",
   "metadata": {},
   "outputs": [
    {
     "name": "stdout",
     "output_type": "stream",
     "text": [
      "[0, 1, 2, 3, 4, 5, 6, 7, 8, 9]\n"
     ]
    }
   ],
   "source": [
    "#generating the random numbers\n",
    "list=[x for x in range(10)]\n",
    "print(list)"
   ]
  },
  {
   "cell_type": "code",
   "execution_count": 48,
   "id": "bfbc498b-8340-4537-b971-2cba04133073",
   "metadata": {},
   "outputs": [
    {
     "name": "stdout",
     "output_type": "stream",
     "text": [
      "0\n",
      "1\n",
      "2\n",
      "3\n",
      "4\n"
     ]
    }
   ],
   "source": [
    "for x in range(5):\n",
    "    print(x)"
   ]
  },
  {
   "cell_type": "markdown",
   "id": "cb1e6533-23bb-4038-8712-fffac32d531d",
   "metadata": {},
   "source": [
    "<h2 style=\"color:Orange; font-size:15px;\">\n",
    "    continue statement in for loop<br>\n",
    "    - continue statement skips the current iteration and moves to the next one<br>\n",
    "    -the loop itself does not stop<br>\n",
    "    break statement in for loop<br>\n",
    "    - immediately stops the loop<br>\n",
    "    -code after break in the loop will no execute\n",
    "</h2>"
   ]
  },
  {
   "cell_type": "code",
   "execution_count": 51,
   "id": "615fd095-8a0e-4b74-8c55-2d1104b89d92",
   "metadata": {},
   "outputs": [
    {
     "name": "stdout",
     "output_type": "stream",
     "text": [
      "red\n",
      "blue\n",
      "violet\n"
     ]
    }
   ],
   "source": [
    "#continue statement example\n",
    "colors=['red','blue','green','violet']\n",
    "for x in colors:\n",
    "    if x=='green':\n",
    "        continue\n",
    "    print(x)"
   ]
  },
  {
   "cell_type": "code",
   "execution_count": 52,
   "id": "34519b97-51ca-4875-a62a-e97c611fef38",
   "metadata": {},
   "outputs": [
    {
     "name": "stdout",
     "output_type": "stream",
     "text": [
      "red\n",
      "blue\n"
     ]
    }
   ],
   "source": [
    "#break statement example\n",
    "colors=['red','blue','green','violet']\n",
    "for x in colors:\n",
    "    if x=='green':\n",
    "        break\n",
    "    print(x)"
   ]
  },
  {
   "cell_type": "code",
   "execution_count": 55,
   "id": "05e485cb-1ef8-4be5-abbb-571cc18a4343",
   "metadata": {},
   "outputs": [
    {
     "name": "stdout",
     "output_type": "stream",
     "text": [
      "1 a\n",
      "1 b\n",
      "1 c\n",
      "2 a\n",
      "2 b\n",
      "2 c\n",
      "3 a\n",
      "3 b\n",
      "3 c\n"
     ]
    }
   ],
   "source": [
    "#another example\n",
    "x=[1,2,3]\n",
    "y=['a','b','c']\n",
    "for i in x:\n",
    "    for j in y:\n",
    "        print(i,j)"
   ]
  },
  {
   "cell_type": "markdown",
   "id": "82410f33-c4dd-4a16-ae59-55a8b4aaf2ce",
   "metadata": {},
   "source": [
    "<h2 style=\"color:Orange; font-size:15px;\">\n",
    "    function in python<br>\n",
    "    - it is a block of reusable code to perform a specific task<br>\n",
    "    - to organize code<br>\n",
    "    - to avoid repetition and makes it easier to maintain\n",
    "</h2>"
   ]
  },
  {
   "cell_type": "code",
   "execution_count": 57,
   "id": "8821a222-d239-4d7c-a247-dfed2e8d8a83",
   "metadata": {},
   "outputs": [
    {
     "name": "stdout",
     "output_type": "stream",
     "text": [
      "aparna naram\n"
     ]
    }
   ],
   "source": [
    "#defining the function \n",
    "def my_fun(f_name,l_name):\n",
    "    print(f_name+' '+l_name)\n",
    "\n",
    "my_fun('aparna','naram')"
   ]
  },
  {
   "cell_type": "markdown",
   "id": "dadcab3e-a4e3-43ac-8ab2-375a94e69b08",
   "metadata": {},
   "source": [
    "<h2 style=\"color:Orange; font-size:15px;\">\n",
    "    *args in function<br>\n",
    "    - allows to pass a variable number of positional arguments to a function<br>\n",
    "    - inside the function, args is a tuple<br>\n",
    "    **kwargs in function<br>\n",
    "    -allows to pass a variable number of keyword arguments to a function<br>\n",
    "    -inside the function, kwargs is a dictionary\n",
    "</h2>"
   ]
  },
  {
   "cell_type": "code",
   "execution_count": 60,
   "id": "c131de52-0a91-4d22-ba37-5fa3b4735b58",
   "metadata": {},
   "outputs": [
    {
     "name": "stdout",
     "output_type": "stream",
     "text": [
      "1 2 4\n",
      "sum 7\n",
      "11 24\n",
      "sum 35\n"
     ]
    }
   ],
   "source": [
    "#example of *args\n",
    "def sum_all(*args):\n",
    "    print(*args)\n",
    "    return sum(args)\n",
    "\n",
    "print(\"sum\",sum_all(1,2,4))\n",
    "print(\"sum\",sum_all(11,24))"
   ]
  },
  {
   "cell_type": "code",
   "execution_count": 64,
   "id": "34976427-3f6b-4708-b2d8-1020171de93c",
   "metadata": {},
   "outputs": [
    {
     "name": "stdout",
     "output_type": "stream",
     "text": [
      "{'name': 'aparna', 'age': 27}\n",
      "name:aparna\n",
      "age:27\n"
     ]
    }
   ],
   "source": [
    "#example of **kwargs\n",
    "def print_infor(**kwargs):\n",
    "    print(kwargs)\n",
    "    for key,value in kwargs.items():\n",
    "        print(f\"{key}:{value}\")\n",
    "\n",
    "print_infor(name='aparna',age=27)"
   ]
  },
  {
   "cell_type": "markdown",
   "id": "4e325a9a-a1e2-4359-8eea-28ef7a4a7cbd",
   "metadata": {},
   "source": [
    "<h2 style=\"color:Orange; font-size:15px;\">\n",
    "   lambda function<br>\n",
    "    - it is small anynomous function defined with lambda keyword<br>\n",
    "    - used when we need a simple function for a short period of time<br>\n",
    "    - it is a one line function\n",
    "</h2>"
   ]
  },
  {
   "cell_type": "code",
   "execution_count": 70,
   "id": "9f020376-ebe6-418d-a1b8-9a00406a5806",
   "metadata": {},
   "outputs": [
    {
     "name": "stdout",
     "output_type": "stream",
     "text": [
      "10\n",
      "-----------------------------------\n",
      "6\n",
      "-----------------------------------\n",
      "44\n"
     ]
    }
   ],
   "source": [
    "#lambda function\n",
    "x=lambda a:a+5\n",
    "print(x(5))\n",
    "sep()\n",
    "x=lambda a,b: a*b\n",
    "print(x(2,3))\n",
    "sep()\n",
    "def my_fun(n):\n",
    "    return lambda a:a*n\n",
    "\n",
    "a=my_fun(4)\n",
    "print(a(11))"
   ]
  },
  {
   "cell_type": "code",
   "execution_count": null,
   "id": "854c41b3-63c1-47c1-a8d2-10a863de42d7",
   "metadata": {},
   "outputs": [],
   "source": []
  }
 ],
 "metadata": {
  "kernelspec": {
   "display_name": "Python 3 (ipykernel)",
   "language": "python",
   "name": "python3"
  },
  "language_info": {
   "codemirror_mode": {
    "name": "ipython",
    "version": 3
   },
   "file_extension": ".py",
   "mimetype": "text/x-python",
   "name": "python",
   "nbconvert_exporter": "python",
   "pygments_lexer": "ipython3",
   "version": "3.13.1"
  }
 },
 "nbformat": 4,
 "nbformat_minor": 5
}
