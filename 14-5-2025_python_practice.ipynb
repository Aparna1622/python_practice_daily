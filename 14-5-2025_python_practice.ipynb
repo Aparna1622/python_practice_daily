{
 "cells": [
  {
   "cell_type": "markdown",
   "id": "d0af2226-84fe-4706-a1de-ad3bb505437e",
   "metadata": {},
   "source": [
    "<h2 style=\"color:blue; font-size:20px;\">Day-3_Practice</h2>"
   ]
  },
  {
   "cell_type": "markdown",
   "id": "29ebe377-6bae-4e2c-b1c1-50714df74da6",
   "metadata": {},
   "source": [
    "<h2 style=\"color:Orange; font-size:15px;\">\n",
    "    slicing in python<br>\n",
    "    - it is used to extract a portion of sequence like string, list and tuple<br>\n",
    "    - sequence[start:stop:step]<br>\n",
    "    -start[]: it is optional and inclusive. Default is 0<br>\n",
    "    -stop[]- it is optional,it is exclusive<br>\n",
    "    - step[]: it is optional,it is used to define the interval between elements. Default is 1.<br>\n",
    "    -slicing never gives an error. it always gives what is available\n",
    "</h2>"
   ]
  },
  {
   "cell_type": "code",
   "execution_count": 2,
   "id": "16be3e05-9eb0-4e61-860d-1baf75ac01b9",
   "metadata": {},
   "outputs": [
    {
     "name": "stdout",
     "output_type": "stream",
     "text": [
      "-------------------------\n"
     ]
    }
   ],
   "source": [
    "def sep():\n",
    "    print('-----'*5)"
   ]
  },
  {
   "cell_type": "code",
   "execution_count": 9,
   "id": "01c8bdaa-80c9-407a-a040-67d8a1843bc8",
   "metadata": {},
   "outputs": [
    {
     "name": "stdout",
     "output_type": "stream",
     "text": [
      "[20, 30, 40]\n",
      "-------------------------\n",
      "[20, 30, 40, 50, 90, 60]\n",
      "-------------------------\n",
      "[10, 20, 30, 40, 50, 90]\n",
      "-------------------------\n",
      "[10, 30, 50, 60]\n",
      "-------------------------\n",
      "[60, 90, 50, 40, 30, 20, 10]\n"
     ]
    }
   ],
   "source": [
    "#slicing with a list\n",
    "l=[10,20,30,40,50,90,60]\n",
    "print(l[1:4]) \n",
    "sep()\n",
    "print(l[1:])\n",
    "sep()\n",
    "print(l[:6])\n",
    "sep()\n",
    "print(l[::2])\n",
    "sep()\n",
    "print(l[::-1]) #reverse of a list"
   ]
  },
  {
   "cell_type": "code",
   "execution_count": 13,
   "id": "d347edeb-239d-45c3-9f3a-84ea15d94389",
   "metadata": {},
   "outputs": [
    {
     "name": "stdout",
     "output_type": "stream",
     "text": [
      "Aparna\n",
      "-------------------------\n",
      "Aparn\n",
      "-------------------------\n",
      "Aan\n",
      "-------------------------\n",
      "anrapA\n"
     ]
    }
   ],
   "source": [
    "#slicing with a string\n",
    "name='Aparna'\n",
    "print(name[0:])\n",
    "sep()\n",
    "print(name[:5])\n",
    "sep()\n",
    "print(name[::2])\n",
    "sep()\n",
    "print(name[::-1])"
   ]
  },
  {
   "cell_type": "markdown",
   "id": "c940bc84-627c-4f4e-8f92-610cb0c6eedf",
   "metadata": {},
   "source": [
    "<h2 style=\"color:Orange; font-size:15px;\">\n",
    "    Examples in functions\n",
    "</h2>"
   ]
  },
  {
   "cell_type": "code",
   "execution_count": 20,
   "id": "940d9f37-bd2b-42b8-be26-339cf4c6eac8",
   "metadata": {},
   "outputs": [
    {
     "name": "stdout",
     "output_type": "stream",
     "text": [
      "sum of given numbers: 66\n"
     ]
    }
   ],
   "source": [
    "#1.to add two numbers\n",
    "def sum_of_numbers(a,b):\n",
    "    return a+b\n",
    "\n",
    "print(\"sum of given numbers:\",sum_of_numbers(10,56))"
   ]
  },
  {
   "cell_type": "code",
   "execution_count": 23,
   "id": "be45ecf4-d5e7-40a1-a957-218d90581531",
   "metadata": {},
   "outputs": [
    {
     "name": "stdout",
     "output_type": "stream",
     "text": [
      "0\n",
      "1\n",
      "2\n",
      "3\n",
      "4\n",
      "5\n",
      "6\n",
      "7\n",
      "8\n",
      "9\n"
     ]
    }
   ],
   "source": [
    "#function to print numbers from 0 to n\n",
    "def given_num(num):\n",
    "    for i in range(num):\n",
    "        print(i)\n",
    "\n",
    "given_num(10)"
   ]
  },
  {
   "cell_type": "code",
   "execution_count": 35,
   "id": "778e2d62-1549-4438-91f1-7ce7eb425734",
   "metadata": {},
   "outputs": [],
   "source": [
    "#2. to check if a number is prime or not\n",
    "#Sets the logging level to INFO, messages of level INFO and above(Eg: warning and error) will be shown\n",
    "import logging \n",
    "import sys\n",
    "\n",
    "# Remove any existing handlers first\n",
    "for handler in logging.root.handlers[:]:\n",
    "    logging.root.removeHandler(handler)\n",
    "\n",
    "# Now set up logging to output to stdout\n",
    "logging.basicConfig(\n",
    "    level=logging.INFO,\n",
    "    format='%(levelname)s:%(message)s',\n",
    "    stream=sys.stdout\n",
    ")\n",
    "\n",
    "#defining the is_prime function\n",
    "def is_prime(n):\n",
    "    logging.info(\"Starting to log the function\")\n",
    "    if n == 1:\n",
    "        return False\n",
    "    if n == 2 or n == 3:\n",
    "        return True\n",
    "    if n % 2 == 0 or n % 3 == 0:\n",
    "        return False\n",
    "    logging.info(\"half part is completed\")\n",
    "    #using 6k±1 optimization\n",
    "    i = 5\n",
    "    while i * i <= n:\n",
    "        logging.info(\"printing the elements{i}\")\n",
    "        if n % i == 0 or n % (i+2) == 0:\n",
    "            print(\"jk\",i)\n",
    "            return False\n",
    "        i += 6\n",
    "    return True\n",
    "                     "
   ]
  },
  {
   "cell_type": "code",
   "execution_count": 36,
   "id": "1b9b6cb9-e914-42eb-a816-bcde60c1da8a",
   "metadata": {},
   "outputs": [
    {
     "name": "stdout",
     "output_type": "stream",
     "text": [
      "INFO:Starting to log the function\n",
      "INFO:half part is completed\n",
      "INFO:printing the elements{i}\n"
     ]
    },
    {
     "data": {
      "text/plain": [
       "True"
      ]
     },
     "execution_count": 36,
     "metadata": {},
     "output_type": "execute_result"
    }
   ],
   "source": [
    "is_prime(79)"
   ]
  },
  {
   "cell_type": "code",
   "execution_count": 37,
   "id": "c2fb72e4-fff5-45e6-a467-42787071494a",
   "metadata": {},
   "outputs": [
    {
     "name": "stdout",
     "output_type": "stream",
     "text": [
      "INFO:Starting to log the function\n"
     ]
    },
    {
     "data": {
      "text/plain": [
       "False"
      ]
     },
     "execution_count": 37,
     "metadata": {},
     "output_type": "execute_result"
    }
   ],
   "source": [
    "is_prime(66)"
   ]
  },
  {
   "cell_type": "code",
   "execution_count": 29,
   "id": "574efa7e-763d-4924-863a-b024f9248f3c",
   "metadata": {},
   "outputs": [
    {
     "data": {
      "text/plain": [
       "True"
      ]
     },
     "execution_count": 29,
     "metadata": {},
     "output_type": "execute_result"
    }
   ],
   "source": [
    "is_prime(163)"
   ]
  },
  {
   "cell_type": "code",
   "execution_count": 43,
   "id": "393d32df-5747-4c51-bfd4-c3119fa6c934",
   "metadata": {},
   "outputs": [
    {
     "data": {
      "text/plain": [
       "[-3, -2, -1, 0]"
      ]
     },
     "execution_count": 43,
     "metadata": {},
     "output_type": "execute_result"
    }
   ],
   "source": [
    "#3. to check negative numbers\n",
    "\n",
    "def find_negative(start,end):\n",
    "    if start == end:\n",
    "        if start < 0:\n",
    "            return list(start)\n",
    "        else:\n",
    "            return []\n",
    "    output=[]\n",
    "    \n",
    "    for i in range(start,end):\n",
    "        if i < 1:\n",
    "            output.append(i)\n",
    "    return output\n",
    "\n",
    "find_negative(-3,4)"
   ]
  },
  {
   "cell_type": "code",
   "execution_count": 44,
   "id": "887c998f-36a7-4686-9a77-fbc8e92fbf16",
   "metadata": {},
   "outputs": [
    {
     "data": {
      "text/plain": [
       "[]"
      ]
     },
     "execution_count": 44,
     "metadata": {},
     "output_type": "execute_result"
    }
   ],
   "source": [
    "find_negative(1,9)"
   ]
  },
  {
   "cell_type": "code",
   "execution_count": 45,
   "id": "b82d3b37-512d-4d25-9cc6-4301999cee15",
   "metadata": {},
   "outputs": [
    {
     "data": {
      "text/plain": [
       "[-17, -16, -15, -14, -13, -12, -11, -10]"
      ]
     },
     "execution_count": 45,
     "metadata": {},
     "output_type": "execute_result"
    }
   ],
   "source": [
    "find_negative(-17,-9)"
   ]
  },
  {
   "cell_type": "markdown",
   "id": "6acda482-214c-44d5-9814-8bb5d1e06183",
   "metadata": {},
   "source": [
    "<h2 style=\"color:Orange; font-size:15px;\">\n",
    "    Arbitrary positional arguments(*args)<br>\n",
    "    - it is used if we dont know how many arguments that will be passed into our function<br>\n",
    "    - add a * befor the parameter name in the function\n",
    "</h2>"
   ]
  },
  {
   "cell_type": "code",
   "execution_count": 46,
   "id": "3961e0d7-3311-483c-89b6-f18d03d39f28",
   "metadata": {},
   "outputs": [
    {
     "name": "stdout",
     "output_type": "stream",
     "text": [
      "The youngest child is esha\n"
     ]
    }
   ],
   "source": [
    "#example of *args\n",
    "\n",
    "def young_child(*kids):\n",
    "    print(\"The youngest child is\",kids[3])\n",
    "\n",
    "young_child('ramu','somu','shan','esha')"
   ]
  },
  {
   "cell_type": "code",
   "execution_count": 47,
   "id": "f8329bf7-d996-487f-98ec-4f4af5081722",
   "metadata": {},
   "outputs": [
    {
     "name": "stdout",
     "output_type": "stream",
     "text": [
      "The youngest child is esha\n"
     ]
    }
   ],
   "source": [
    "young_child('ramu','somu','sha','esha','pavan','bobby')"
   ]
  },
  {
   "cell_type": "markdown",
   "id": "0ba2fb27-d4f8-4f74-babb-2897bb089411",
   "metadata": {},
   "source": [
    "<h2 style=\"color:Orange; font-size:15px;\">\n",
    "    Arbitrary key-word arguments(**kwargs)<br>\n",
    "    - it is used if we dont know how many key word arguments that will be passed into our function<br>\n",
    "    - add two ** before the parameter name in the function\n",
    "</h2>"
   ]
  },
  {
   "cell_type": "code",
   "execution_count": 48,
   "id": "2a50f30e-b73c-49f3-a898-19dd1a1c9d6b",
   "metadata": {},
   "outputs": [
    {
     "name": "stdout",
     "output_type": "stream",
     "text": [
      "name=aparna\n",
      "age=27\n",
      "ciy=hyderabad\n"
     ]
    }
   ],
   "source": [
    "#1.example for **kwargs\n",
    "def my_fun(**kwargs):\n",
    "    for key,value in kwargs.items():\n",
    "        print(f\"{key}={value}\")\n",
    "my_fun(name='aparna',age=27,ciy='hyderabad')"
   ]
  },
  {
   "cell_type": "code",
   "execution_count": 53,
   "id": "89834c09-2ef8-4b29-aa2a-d324567ce191",
   "metadata": {},
   "outputs": [
    {
     "name": "stdout",
     "output_type": "stream",
     "text": [
      "last_name Naram\n"
     ]
    }
   ],
   "source": [
    "#2.\n",
    "def last_name(**kid):\n",
    "    print(\"last_name:\",kid['lname'])\n",
    "\n",
    "last_name(fname='Aparna',lname='Naram')"
   ]
  },
  {
   "cell_type": "markdown",
   "id": "9bebddf0-31a3-4019-9e76-3f281030afaf",
   "metadata": {},
   "source": [
    "<h2 style=\"color:Orange; font-size:15px;\">\n",
    "    default parameters<br>\n",
    "    - it allows function to use a default value if no value is provided for that parameter \n",
    "    during the function call\n",
    "</h2>"
   ]
  },
  {
   "cell_type": "code",
   "execution_count": 58,
   "id": "55e691a6-e9c3-497a-b590-717e8c78b9fa",
   "metadata": {},
   "outputs": [
    {
     "data": {
      "text/plain": [
       "'my_name is naram'"
      ]
     },
     "execution_count": 58,
     "metadata": {},
     "output_type": "execute_result"
    }
   ],
   "source": [
    "#example for default parameter\n",
    "def my_name(name='aparna'):\n",
    "    return(\"my_name is \"+name)\n",
    "\n",
    "my_name('naram')"
   ]
  },
  {
   "cell_type": "code",
   "execution_count": 59,
   "id": "9c2b052d-5184-44bb-8ea0-dfc6053fc6ad",
   "metadata": {},
   "outputs": [
    {
     "data": {
      "text/plain": [
       "'my_name is aparna'"
      ]
     },
     "execution_count": 59,
     "metadata": {},
     "output_type": "execute_result"
    }
   ],
   "source": [
    "my_name()"
   ]
  },
  {
   "cell_type": "markdown",
   "id": "747e9cb7-d9ab-48f5-8532-3f13b06a6c47",
   "metadata": {},
   "source": [
    "<h2 style=\"color:Orange; font-size:15px;\">\n",
    "    pass statement in function<br>\n",
    "    - to define a function, class or loop without body<br>\n",
    "    - to avoid syntax errors while still planning code<br>\n",
    "    - helpful during debugging\n",
    "</h2>"
   ]
  },
  {
   "cell_type": "code",
   "execution_count": 60,
   "id": "507b708a-ea66-4f2e-8eb3-7ba7607fe293",
   "metadata": {},
   "outputs": [],
   "source": [
    "def process_data():\n",
    "    pass #if we want to write the logic later"
   ]
  },
  {
   "cell_type": "markdown",
   "id": "94087906-936e-4781-93a5-115d81626397",
   "metadata": {},
   "source": [
    "<h2 style=\"color:Orange; font-size:15px;\">\n",
    "    positional-only arguments<br>\n",
    "    - these are function parameters that must be passed by position not be key word<br>\n",
    "    used to:<br>\n",
    "    - enforce that certain arguments are passed positionally, which means when we want the arguments \n",
    "    should be passed only by position not by keyword<br>\n",
    "    - prevent misuse(eg: calling with wrong keyword names)<br>\n",
    "    - to protech API from keyword misuse<br>\n",
    "    - to avoid breaking code if parameter names change in the future<br>\n",
    "    - these are specified using /<br>\n",
    "    - all arguments before / are positional only\n",
    "</h2>"
   ]
  },
  {
   "cell_type": "code",
   "execution_count": 68,
   "id": "a66133de-7f89-42ec-a292-50903d187950",
   "metadata": {},
   "outputs": [
    {
     "name": "stdout",
     "output_type": "stream",
     "text": [
      "aparna,naram\n"
     ]
    }
   ],
   "source": [
    "#example for positional argument\n",
    "#1.\n",
    "def greet(name,/,message):\n",
    "    print(f\"{name},{message}\")\n",
    "\n",
    "greet('aparna','naram')"
   ]
  },
  {
   "cell_type": "code",
   "execution_count": 71,
   "id": "6410fe46-9cdb-4b3e-9fe0-bb5c58bbfc9b",
   "metadata": {},
   "outputs": [
    {
     "name": "stdout",
     "output_type": "stream",
     "text": [
      "0.5\n"
     ]
    }
   ],
   "source": [
    "#2.\n",
    "def divide(x,y,/):\n",
    "    return x/y\n",
    "\n",
    "print(divide(10,20))\n",
    "\n",
    "#below will give error\n",
    "#print(divide(x=10,y=20))"
   ]
  },
  {
   "cell_type": "markdown",
   "id": "c852df82-0b95-41fe-afe5-dcef73246de4",
   "metadata": {},
   "source": [
    "<h2 style=\"color:Orange; font-size:15px;\">\n",
    "    keyword-only arguments<br>\n",
    "    - these are parameters that must be passed using their name(as a keyword) not just by position<br>\n",
    "    - need to use the * symbol in the function<br>\n",
    "    - everything after * is a keyword only argument<br>\n",
    "    - we must pass this using the parameter name<br>\n",
    "    used to:<br>\n",
    "    - make our code more readable<br>\n",
    "    - to avoid mistakes by making sure users name the parameters<br>\n",
    "    - useful when function has optional or many arguments\n",
    "</h2>"
   ]
  },
  {
   "cell_type": "code",
   "execution_count": 72,
   "id": "64e016ff-45b6-44c6-857f-567863f341b0",
   "metadata": {},
   "outputs": [
    {
     "name": "stdout",
     "output_type": "stream",
     "text": [
      "Name:aparna,Age:27,Email:naram@gmail.com,Phone:8309791221\n"
     ]
    }
   ],
   "source": [
    "#example for keyword-only argument\n",
    "#1.\n",
    "##name and age can be passed by position but email and phone should be passed using keywords \n",
    "def register_user(name,age,*,email,phone):\n",
    "    print(f\"Name:{name},Age:{age},Email:{email},Phone:{phone}\")\n",
    "\n",
    "register_user(\"aparna\",27,email=\"naram@gmail.com\",phone=8309791221)"
   ]
  },
  {
   "cell_type": "code",
   "execution_count": 73,
   "id": "a5492eb2-2379-43dc-b064-c362fd57794a",
   "metadata": {},
   "outputs": [
    {
     "ename": "TypeError",
     "evalue": "register_user() takes 2 positional arguments but 3 positional arguments (and 1 keyword-only argument) were given",
     "output_type": "error",
     "traceback": [
      "\u001b[1;31m-------------------------------------\u001b[0m",
      "\u001b[1;31mTypeError\u001b[0mTraceback (most recent call last)",
      "Cell \u001b[1;32mIn[73], line 2\u001b[0m\n\u001b[0;32m      1\u001b[0m \u001b[38;5;66;03m#below will give error\u001b[39;00m\n\u001b[1;32m----> 2\u001b[0m \u001b[43mregister_user\u001b[49m\u001b[43m(\u001b[49m\u001b[38;5;124;43m\"\u001b[39;49m\u001b[38;5;124;43maparna\u001b[39;49m\u001b[38;5;124;43m\"\u001b[39;49m\u001b[43m,\u001b[49m\u001b[38;5;241;43m27\u001b[39;49m\u001b[43m,\u001b[49m\u001b[38;5;124;43m\"\u001b[39;49m\u001b[38;5;124;43mnaram@gmail.com\u001b[39;49m\u001b[38;5;124;43m\"\u001b[39;49m\u001b[43m,\u001b[49m\u001b[43mphone\u001b[49m\u001b[38;5;241;43m=\u001b[39;49m\u001b[38;5;241;43m8309791221\u001b[39;49m\u001b[43m)\u001b[49m\n",
      "\u001b[1;31mTypeError\u001b[0m: register_user() takes 2 positional arguments but 3 positional arguments (and 1 keyword-only argument) were given"
     ]
    }
   ],
   "source": [
    "#below will give error\n",
    "register_user(\"aparna\",27,\"naram@gmail.com\",phone=8309791221)"
   ]
  },
  {
   "cell_type": "markdown",
   "id": "4884314e-f90d-4bcc-a7b7-3b7c57caeb73",
   "metadata": {},
   "source": [
    "<h2 style=\"color:Orange; font-size:15px;\">\n",
    "    Recursion<br>\n",
    "    - it is when a function calls itself to solve a smaller part of the problem until it reaches a base\n",
    "condition<br>\n",
    "    - structure of recursive function: base case(when to stop) & recursive case(function calls itself with \n",
    "    smaller input)<br>\n",
    "    - recursion must always reach a base case, otherwise it will result in infinite loop and cause a recursion \n",
    "    error<br>\n",
    "    - these can be less efficient than loops if not optimized<br>\n",
    "    used to problems like:<br>\n",
    "    - Factorial, Fibonacci, Tree/Graph traversal, Searching/sorting (eg: quicksort,mergesort)\n",
    "</h2>"
   ]
  },
  {
   "cell_type": "code",
   "execution_count": 78,
   "id": "a7c62ea8-9257-4282-ad34-2aa6df6ca81c",
   "metadata": {},
   "outputs": [],
   "source": [
    "#factorial problem\n",
    "def factorial(n):\n",
    "    if n == 0 or n == 1:   #base case\n",
    "        return 1\n",
    "    else:\n",
    "        return n*factorial(n-1) #recursion case"
   ]
  },
  {
   "cell_type": "code",
   "execution_count": 76,
   "id": "ada12486-0bb2-4880-98d8-6548dd3a0ad4",
   "metadata": {},
   "outputs": [
    {
     "data": {
      "text/plain": [
       "24"
      ]
     },
     "execution_count": 76,
     "metadata": {},
     "output_type": "execute_result"
    }
   ],
   "source": [
    "factorial(4)"
   ]
  },
  {
   "cell_type": "code",
   "execution_count": 77,
   "id": "a1beb8b0-ec7a-4669-8d67-6df9d63fd7c7",
   "metadata": {},
   "outputs": [
    {
     "data": {
      "text/plain": [
       "120"
      ]
     },
     "execution_count": 77,
     "metadata": {},
     "output_type": "execute_result"
    }
   ],
   "source": [
    "factorial(5)"
   ]
  },
  {
   "cell_type": "code",
   "execution_count": 79,
   "id": "773ad380-180f-4dbf-bc63-f403ed88e603",
   "metadata": {},
   "outputs": [],
   "source": [
    "#sum of natural numbers\n",
    "def sum_n(n):\n",
    "    if n == 1:\n",
    "        return 1\n",
    "    else:\n",
    "        return n + sum_n(n-1)"
   ]
  },
  {
   "cell_type": "code",
   "execution_count": 80,
   "id": "1bd00cf3-02f3-4348-8b9d-5be61655712b",
   "metadata": {},
   "outputs": [
    {
     "data": {
      "text/plain": [
       "55"
      ]
     },
     "execution_count": 80,
     "metadata": {},
     "output_type": "execute_result"
    }
   ],
   "source": [
    "sum_n(10)"
   ]
  },
  {
   "cell_type": "code",
   "execution_count": 89,
   "id": "67b24ba6-7b42-4186-b2d7-01f3fe77dbd6",
   "metadata": {},
   "outputs": [],
   "source": [
    "#Fibonacci problem\n",
    "#in this sequence of numbers, each number is the sum of two previous numbers\n",
    "def fibonacci(n):\n",
    "    if n == 0:\n",
    "        return 0\n",
    "    elif n == 1:\n",
    "        return 1\n",
    "    else:\n",
    "        return fibonacci(n-1)+fibanacci(n-2)"
   ]
  },
  {
   "cell_type": "code",
   "execution_count": 90,
   "id": "aeede57b-b72a-45eb-8e78-f3f917e7e2cd",
   "metadata": {},
   "outputs": [
    {
     "data": {
      "text/plain": [
       "21"
      ]
     },
     "execution_count": 90,
     "metadata": {},
     "output_type": "execute_result"
    }
   ],
   "source": [
    "fibonacci(8)"
   ]
  },
  {
   "cell_type": "code",
   "execution_count": 91,
   "id": "d1bae8b8-792e-4b54-b124-e3292cf65dea",
   "metadata": {},
   "outputs": [],
   "source": [
    "#fibonacci_series\n",
    "def fibonacci_series(n):\n",
    "    return [fibonacci(i) for i in range(n)]"
   ]
  },
  {
   "cell_type": "code",
   "execution_count": 93,
   "id": "dc65bc07-6088-4959-87db-1f1d515a4b3f",
   "metadata": {},
   "outputs": [
    {
     "data": {
      "text/plain": [
       "[0, 1, 1, 2, 3, 5, 8, 13]"
      ]
     },
     "execution_count": 93,
     "metadata": {},
     "output_type": "execute_result"
    }
   ],
   "source": [
    "fibonacci_series(8)"
   ]
  },
  {
   "cell_type": "code",
   "execution_count": null,
   "id": "34aab774-9f9c-4a13-9f6f-5eced870cacd",
   "metadata": {},
   "outputs": [],
   "source": []
  }
 ],
 "metadata": {
  "kernelspec": {
   "display_name": "Python 3 (ipykernel)",
   "language": "python",
   "name": "python3"
  },
  "language_info": {
   "codemirror_mode": {
    "name": "ipython",
    "version": 3
   },
   "file_extension": ".py",
   "mimetype": "text/x-python",
   "name": "python",
   "nbconvert_exporter": "python",
   "pygments_lexer": "ipython3",
   "version": "3.13.1"
  }
 },
 "nbformat": 4,
 "nbformat_minor": 5
}
