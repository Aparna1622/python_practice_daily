{
 "cells": [
  {
   "cell_type": "markdown",
   "id": "cd4c05c9-f077-4752-9b12-2ae65cbc1865",
   "metadata": {},
   "source": [
    "<h2 style=\"color:blue; font-size:20px;\">Day-5_Practice</h2>"
   ]
  },
  {
   "cell_type": "markdown",
   "id": "3f488889-76dc-4d3d-8db4-275f78e4a91f",
   "metadata": {},
   "source": [
    "<h2 style=\"color:Orange; font-size:15px;\">\n",
    "    arrays in python<br>\n",
    "    - these are more specialized for storing homogenous data(items of same data type)<br>\n",
    "    - these are more efficient and faster for numerical operations<br>\n",
    "    - these require import array module or using libraries like numpy for advanced numerical operations<br>\n",
    "    - these are faster than lists\n",
    "</h2>"
   ]
  },
  {
   "cell_type": "code",
   "execution_count": 6,
   "id": "34183b0e-1328-4566-b658-42943757fdbc",
   "metadata": {},
   "outputs": [],
   "source": [
    "from array import array"
   ]
  },
  {
   "cell_type": "code",
   "execution_count": 7,
   "id": "bc81202f-e0ea-4669-948d-17bc77261984",
   "metadata": {},
   "outputs": [],
   "source": [
    "def sep():\n",
    "    print(\"-----\"*5)"
   ]
  },
  {
   "cell_type": "code",
   "execution_count": 8,
   "id": "880f5d09-d5f4-49be-970a-3557c25e3bae",
   "metadata": {},
   "outputs": [
    {
     "name": "stdout",
     "output_type": "stream",
     "text": [
      "After append:array('i', [1, 2, 3, 4])\n",
      "-------------------------\n",
      "After insert:array('i', [1, 2, 6, 3, 4])\n",
      "-------------------------\n",
      "After pop (last element):array('i', [1, 2, 6, 3]), Popped: 4\n",
      "After pop (first element):array('i', [2, 6, 3]),Popped:1\n",
      "-------------------------\n",
      "After remove,array('i', [6, 3])\n",
      "-------------------------\n",
      "Index of 6:0\n",
      "-------------------------\n",
      "After extend:array('i', [6, 3, 7, 8, 9])\n",
      "-------------------------\n",
      "count of 9 in the array:1\n",
      "-------------------------\n",
      "After reverse:array('i', [9, 8, 7, 3, 6])\n",
      "-------------------------\n",
      "Buffer info:(1804158653392, 5)\n",
      "-------------------------\n",
      "After byteswap:array('i', [16777216, 33554432, 50331648])\n",
      "-------------------------\n",
      "Array as list:[9, 8, 7, 3, 6]\n",
      "-------------------------\n",
      "After fromlist:array('i', [9, 8, 7, 3, 6, 1, 2])\n",
      "-------------------------\n",
      "Array from bytes: array('i', [9, 8, 7, 3, 6, 1, 2])\n",
      "Array as bytes:b'\\t\\x00\\x00\\x00\\x08\\x00\\x00\\x00\\x07\\x00\\x00\\x00\\x03\\x00\\x00\\x00\\x06\\x00\\x00\\x00\\x01\\x00\\x00\\x00\\x02\\x00\\x00\\x00'\n"
     ]
    }
   ],
   "source": [
    "#array examples\n",
    "\n",
    "#1.append(x) \n",
    "#for adding an item at the end of array\n",
    "arr = array('i',[1,2,3])\n",
    "arr.append(4)\n",
    "print(f\"After append:{arr}\")\n",
    "\n",
    "sep()\n",
    "\n",
    "#2.inset(i,x)\n",
    "#to insert an item x at the specified position i\n",
    "arr.insert(2,6)\n",
    "print(f\"After insert:{arr}\")\n",
    "\n",
    "sep()\n",
    "\n",
    "#3.pop(i)\n",
    "#to remove and return the item at position i\n",
    "popped = arr.pop() #this removes the last item\n",
    "print(f\"After pop (last element):{arr}, Popped: {popped}\")\n",
    "popped = arr.pop(0) #this removes the first item\n",
    "print(f\"After pop (first element):{arr},Popped:{popped}\")\n",
    "\n",
    "sep()\n",
    "\n",
    "#4.remove(x)\n",
    "#to remove first occurence of item x\n",
    "arr.remove(2)\n",
    "print(f\"After remove,{arr}\")\n",
    "\n",
    "sep()\n",
    "\n",
    "#5.index(x)\n",
    "#to return the index of first occurence of item x\n",
    "index=arr.index(6)\n",
    "print(f\"Index of 6:{index}\")\n",
    "\n",
    "sep()\n",
    "\n",
    "#6. extend(iterable) \n",
    "#to extend the array by appending elements from the given iterable\n",
    "arr2= array('i',[7,8,9])\n",
    "arr.extend(arr2)\n",
    "print(f\"After extend:{arr}\")\n",
    "\n",
    "sep()\n",
    "\n",
    "#7. count(x)\n",
    "#to return the count of occurences of the item x in the array\n",
    "count=arr.count(9)\n",
    "print(f\"count of 9 in the array:{count}\")\n",
    "\n",
    "sep()\n",
    "\n",
    "#8.reverse()\n",
    "#to reverse the order of items in array\n",
    "arr.reverse()\n",
    "print(f\"After reverse:{arr}\")\n",
    "\n",
    "sep()\n",
    "\n",
    "#9.buffer_info()\n",
    "#to return a tuple containing the memory information and length of the array\n",
    "info = arr.buffer_info()\n",
    "print(f\"Buffer info:{info}\")\n",
    "\n",
    "sep()\n",
    "\n",
    "#10. byteswap()\n",
    "#to swap the bytes of array items\n",
    "arr_byteswap = array('i',[1,2,3])\n",
    "arr_byteswap.byteswap()\n",
    "print(f\"After byteswap:{arr_byteswap}\")\n",
    "\n",
    "sep()\n",
    "\n",
    "#11.tolist()\n",
    "#to convert the array into a regular python list\n",
    "lst = arr.tolist()\n",
    "print(f\"Array as list:{lst}\")\n",
    "\n",
    "sep()\n",
    "\n",
    "#12. fromlist(list)\n",
    "#to append items from a list to the array\n",
    "arr.fromlist([1,2])\n",
    "print(f\"After fromlist:{arr}\")\n",
    "\n",
    "sep()\n",
    "\n",
    "#13.frombytes(s)\n",
    "#to convert a byte string into an array\n",
    "byte_str = arr.tobytes()\n",
    "arr2 = array('i')\n",
    "arr2.frombytes(byte_str)\n",
    "print(f\"Array from bytes: {arr2}\")\n",
    "\n",
    "#14. tobyte() \n",
    "#to convert the array into a byte string\n",
    "byte_str=arr.tobytes()\n",
    "print(f\"Array as bytes:{byte_str}\")"
   ]
  },
  {
   "cell_type": "markdown",
   "id": "07b9500f-4d64-42ca-b539-290380150ce9",
   "metadata": {},
   "source": [
    "<h2 style=\"color:Orange; font-size:15px;\">\n",
    "    OOPS concept in python<br>\n",
    "    - Object Oriented Programming is a programming pattern that organizes code using classes and objects.<br>\n",
    "    - it help in structuring compelx programs, promoting reusability, scalability and modularity<br>\n",
    "    class:<br>\n",
    "    -it is a blueprint for creating objects.<br>\n",
    "    -it defines attributes(variables) and methods(functions) that the objects created from the class will have.<br>\n",
    "    object<br>\n",
    "    -it is an instance of a class<br>\n",
    "    -when we create an object, python will allocate memory to it and gives it the properties and behaviors(methods) defined in the class.<br> \n",
    "    Method<br>\n",
    "    -it is a function that is defined inside the class.\n",
    "    -it is used to operate on instances(objects) of that class.\n",
    "</h2>"
   ]
  },
  {
   "cell_type": "code",
   "execution_count": 1,
   "id": "0b97167f-c232-4646-bfaa-4f204cddef3f",
   "metadata": {},
   "outputs": [
    {
     "name": "stdout",
     "output_type": "stream",
     "text": [
      "Bike name:bullet,gear:5\n"
     ]
    }
   ],
   "source": [
    "#defining a class\n",
    "class bike:\n",
    "    name = ''\n",
    "    gear = 0\n",
    "\n",
    "#creating object of class\n",
    "bike1=bike()\n",
    "\n",
    "#access attributes and assign new values\n",
    "bike1.name=\"bullet\"\n",
    "bike1.gear=5\n",
    "\n",
    "print(f\"Bike name:{bike1.name},gear:{bike1.gear}\")"
   ]
  },
  {
   "cell_type": "code",
   "execution_count": 9,
   "id": "59ae43ed-364c-40b4-8ce6-c6114605e8d6",
   "metadata": {},
   "outputs": [
    {
     "name": "stdout",
     "output_type": "stream",
     "text": [
      "Area of room= 1034.25\n"
     ]
    }
   ],
   "source": [
    "#1.\n",
    "#method\n",
    "class Room:\n",
    "    length = 0\n",
    "    breadth = 0\n",
    "\n",
    "    #method to calculate area\n",
    "    def calculate_area(self):\n",
    "        print(\"Area of room=\",self.length*self.breadth)\n",
    "\n",
    "#create an object                                                                                    \n",
    "study_room=Room()\n",
    "\n",
    "#assign values to all the operators\n",
    "study_room.length=10.5\n",
    "study_room.breadth=98.5\n",
    "\n",
    "#access method inside class(object.method)\n",
    "study_room.calculate_area()"
   ]
  },
  {
   "cell_type": "code",
   "execution_count": 4,
   "id": "2a9ebe1c-691f-4d8b-9a10-337e11ede16c",
   "metadata": {},
   "outputs": [
    {
     "name": "stdout",
     "output_type": "stream",
     "text": [
      "Hello, Am aparna\n"
     ]
    }
   ],
   "source": [
    "#2.\n",
    "#defining the class\n",
    "class Person:\n",
    "    #method to greet\n",
    "    def say_hello(self):\n",
    "        print(\"Hello, Am aparna\")\n",
    "\n",
    "#creating an object\n",
    "p1=Person()\n",
    "\n",
    "#call the method using the object\n",
    "p1.say_hello()"
   ]
  },
  {
   "cell_type": "code",
   "execution_count": 10,
   "id": "8437edd5-0407-44c1-b2c4-dc580d804866",
   "metadata": {},
   "outputs": [
    {
     "name": "stdout",
     "output_type": "stream",
     "text": [
      "sum: 9\n",
      "product: 12\n"
     ]
    }
   ],
   "source": [
    "#3.\n",
    "#define the class\n",
    "class calculator:\n",
    "    #method to add two numbers\n",
    "    def add(self,a,b):\n",
    "        print(\"sum:\",a+b)\n",
    "    #method to multiply two numbers\n",
    "    def multiply(self,a,b):\n",
    "        print(\"product:\",a*b)\n",
    "\n",
    "#create the object of calculator\n",
    "cal = calculator()\n",
    "\n",
    "#call methods\n",
    "cal.add(4,5)\n",
    "\n",
    "cal.multiply(3,4)"
   ]
  },
  {
   "cell_type": "markdown",
   "id": "1714ab74-4430-4364-a162-254a067b4858",
   "metadata": {},
   "source": [
    "<h2 style=\"color:Orange; font-size:15px;\">\n",
    "    self<br>\n",
    "   - it refers to the current object that is calling the method<br>\n",
    "   - it is how the object accesses its own variables and methods<br>\n",
    "   - without self, the method dont know which object's data it should use<br>\n",
    "   - it is like, \"Hey Python, am talking about this specific object.\n",
    "</h2>"
   ]
  },
  {
   "cell_type": "code",
   "execution_count": 16,
   "id": "718e1ea4-c791-48ee-a051-96d95547b71e",
   "metadata": {},
   "outputs": [
    {
     "name": "stdout",
     "output_type": "stream",
     "text": [
      "My name is: aparna\n",
      "My name is: naram\n"
     ]
    }
   ],
   "source": [
    "#with self\n",
    "class person:\n",
    "    def set_name(self,name): #self.name is the object's variable\n",
    "        self.name =  name\n",
    "    def say_name(self): \n",
    "        print(\"My name is:\",self.name)\n",
    "\n",
    "#create two objects\n",
    "p1=person()\n",
    "p2=person()\n",
    "\n",
    "#set different names for each object\n",
    "p1.set_name(\"aparna\")\n",
    "p2.set_name(\"naram\")\n",
    "\n",
    "#call the method\n",
    "p1.say_name()\n",
    "p2.say_name()"
   ]
  },
  {
   "cell_type": "code",
   "execution_count": null,
   "id": "3084481b-bcb1-4925-bf7e-e13d849d7396",
   "metadata": {},
   "outputs": [],
   "source": [
    "#without self\n",
    "def set_name(name):\n",
    "    name = name\n",
    "#this does nothing useful\n",
    "#this will not save name in the object, the method has no idea where to save"
   ]
  },
  {
   "cell_type": "markdown",
   "id": "3aba3e99-ca64-41c8-b81c-d155e2db52d1",
   "metadata": {},
   "source": [
    "<h2 style=\"color:Orange; font-size:15px;\">\n",
    "    constructor<br>\n",
    "   - it is a special method to initialize objects of a class<br>\n",
    "   - the constructor class is called automatically when a new object of the class is created<br>\n",
    "   Syntax of constructor in python:<br>\n",
    "    -Python's constructor method is defined using the special method __init__()<br>\n",
    "    - class ClassName:<br>\n",
    "        def __init__(self,parameters):<br>\n",
    "            #initialization code\n",
    "</h2>"
   ]
  },
  {
   "cell_type": "code",
   "execution_count": 17,
   "id": "94da9c71-cdde-42ea-a509-41939506c1cf",
   "metadata": {},
   "outputs": [
    {
     "name": "stdout",
     "output_type": "stream",
     "text": [
      "Name:Aparna,Age:27\n"
     ]
    }
   ],
   "source": [
    "#example\n",
    "class Person:\n",
    "    def __init__(self,name,age):\n",
    "        self.name = name #instance variable\n",
    "        self.age = age #instance variable\n",
    "\n",
    "    def show_name(self):\n",
    "        print(f\"Name:{self.name},Age:{self.age}\")\n",
    "\n",
    "#creating an object of the class\n",
    "p1 = Person(\"Aparna\",27)\n",
    "p1.show_name()"
   ]
  },
  {
   "cell_type": "markdown",
   "id": "96be3ff9-3215-4dde-8839-002238508841",
   "metadata": {},
   "source": [
    "<h2 style=\"color:Orange; font-size:15px;\">\n",
    "    Inheritance<br>\n",
    "   - one class inherits properties and methods from another\n",
    "</h2>"
   ]
  },
  {
   "cell_type": "code",
   "execution_count": null,
   "id": "4eaf48c4-10e3-41f5-9e1a-107098c7602b",
   "metadata": {},
   "outputs": [],
   "source": []
  },
  {
   "cell_type": "code",
   "execution_count": null,
   "id": "a10523b0-66e0-4ab5-940f-b058463db824",
   "metadata": {},
   "outputs": [],
   "source": []
  },
  {
   "cell_type": "code",
   "execution_count": null,
   "id": "a19fba9a-6b77-4fd3-96a5-fa5d99cd9676",
   "metadata": {},
   "outputs": [],
   "source": []
  }
 ],
 "metadata": {
  "kernelspec": {
   "display_name": "Python 3 (ipykernel)",
   "language": "python",
   "name": "python3"
  },
  "language_info": {
   "codemirror_mode": {
    "name": "ipython",
    "version": 3
   },
   "file_extension": ".py",
   "mimetype": "text/x-python",
   "name": "python",
   "nbconvert_exporter": "python",
   "pygments_lexer": "ipython3",
   "version": "3.13.1"
  }
 },
 "nbformat": 4,
 "nbformat_minor": 5
}
